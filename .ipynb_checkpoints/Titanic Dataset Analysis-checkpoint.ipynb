{
 "cells": [
  {
   "cell_type": "markdown",
   "metadata": {},
   "source": [
    "# Kaggle Machine Learning Competition: Titanic Survivors Dataset"
   ]
  },
  {
   "cell_type": "markdown",
   "metadata": {},
   "source": [
    "This dataset comes from Kaggle.com. The dataset includes the info of passengers on the Titanic ship. My question is: I would like use this dataset to find out what factors made people more likely to survive and how can I predict who survived by generating models. Here is the index of this ipython notebook."
   ]
  },
  {
   "cell_type": "markdown",
   "metadata": {},
   "source": [
    "1. Description and competition evaluation\n",
    "2. Data set\n",
    "3. Explore the data\n",
    "4. Cleaning the data\n",
    "5. Random Forest and Logistic Regression\n",
    "6. Summary and moving forward"
   ]
  },
  {
   "cell_type": "markdown",
   "metadata": {},
   "source": [
    "### Description and competition evaluation"
   ]
  },
  {
   "cell_type": "markdown",
   "metadata": {},
   "source": [
    "The sinking of the RMS Titanic is one of the most infamous shipwrecks in history.  On April 15, 1912, during her maiden voyage, the Titanic sank after colliding with an iceberg, killing 1502 out of 2224 passengers and crew. This sensational tragedy shocked the international community and led to better safety regulations for ships.\n",
    "\n",
    "One of the reasons that the shipwreck led to such loss of life was that there were not enough lifeboats for the passengers and crew. Although there was some element of luck involved in surviving the sinking, some groups of people were more likely to survive than others, such as women, children, and the upper-class.\n",
    "\n",
    "In this challenge, we ask you to complete the analysis of what sorts of people were likely to survive. In particular, we ask you to apply the tools of machine learning to predict which passengers survived the tragedy.\n",
    "\n",
    "Resource: https://www.kaggle.com/c/titanic"
   ]
  },
  {
   "cell_type": "markdown",
   "metadata": {},
   "source": [
    "### Data set"
   ]
  },
  {
   "cell_type": "markdown",
   "metadata": {},
   "source": [
    "VARIABLE DESCRIPTIONS:\n",
    "survival        Survival\n",
    "                (0 = No; 1 = Yes)\n",
    "pclass          Passenger Class\n",
    "                (1 = 1st; 2 = 2nd; 3 = 3rd)\n",
    "name            Name\n",
    "sex             Sex\n",
    "age             Age\n",
    "sibsp           Number of Siblings/Spouses Aboard\n",
    "parch           Number of Parents/Children Aboard\n",
    "ticket          Ticket Number\n",
    "fare            Passenger Fare\n",
    "cabin           Cabin\n",
    "embarked        Port of Embarkation\n",
    "                (C = Cherbourg; Q = Queenstown; S = Southampton)\n",
    "\n",
    "SPECIAL NOTES:\n",
    "Pclass is a proxy for socio-economic status (SES)\n",
    " 1st ~ Upper; 2nd ~ Middle; 3rd ~ Lower\n",
    "\n",
    "Age is in Years; Fractional if Age less than One (1)\n",
    " If the Age is Estimated, it is in the form xx.5\n",
    "\n",
    "With respect to the family relation variables (i.e. sibsp and parch)\n",
    "some relations were ignored.  The following are the definitions used\n",
    "for sibsp and parch.\n",
    "\n",
    "Sibling:  Brother, Sister, Stepbrother, or Stepsister of Passenger Aboard Titanic\n",
    "Spouse:   Husband or Wife of Passenger Aboard Titanic (Mistresses and Fiances Ignored)\n",
    "Parent:   Mother or Father of Passenger Aboard Titanic\n",
    "Child:    Son, Daughter, Stepson, or Stepdaughter of Passenger Aboard Titanic\n",
    "\n",
    "Other family relatives excluded from this study include cousins,\n",
    "nephews/nieces, aunts/uncles, and in-laws.  Some children travelled\n",
    "only with a nanny, therefore parch=0 for them.  As well, some\n",
    "travelled with very close friends or neighbors in a village, however,\n",
    "the definitions do not support such relations.\n",
    "\n",
    "Resource: https://www.kaggle.com/c/titanic/data"
   ]
  },
  {
   "cell_type": "markdown",
   "metadata": {},
   "source": [
    "### Explore the data"
   ]
  },
  {
   "cell_type": "code",
   "execution_count": 2,
   "metadata": {
    "collapsed": true
   },
   "outputs": [],
   "source": [
    "import pandas as pd\n",
    "import numpy as np\n",
    "\n",
    "train = pd.read_csv('train.csv', header=0)\n",
    "test = pd.read_csv('test.csv', header=0)#import data with header"
   ]
  },
  {
   "cell_type": "code",
   "execution_count": 3,
   "metadata": {
    "collapsed": false
   },
   "outputs": [
    {
     "name": "stdout",
     "output_type": "stream",
     "text": [
      "<class 'pandas.core.frame.DataFrame'>\n",
      "RangeIndex: 891 entries, 0 to 890\n",
      "Data columns (total 12 columns):\n",
      "PassengerId    891 non-null int64\n",
      "Survived       891 non-null int64\n",
      "Pclass         891 non-null int64\n",
      "Name           891 non-null object\n",
      "Sex            891 non-null object\n",
      "Age            714 non-null float64\n",
      "SibSp          891 non-null int64\n",
      "Parch          891 non-null int64\n",
      "Ticket         891 non-null object\n",
      "Fare           891 non-null float64\n",
      "Cabin          204 non-null object\n",
      "Embarked       889 non-null object\n",
      "dtypes: float64(2), int64(5), object(5)\n",
      "memory usage: 83.6+ KB\n"
     ]
    }
   ],
   "source": [
    "train.info()"
   ]
  },
  {
   "cell_type": "markdown",
   "metadata": {},
   "source": [
    "From info we notice that we missed value in column Age, Cabin and Embarked. We have 891 records and 12 columns in total."
   ]
  },
  {
   "cell_type": "code",
   "execution_count": 84,
   "metadata": {
    "collapsed": false
   },
   "outputs": [
    {
     "data": {
      "text/html": [
       "<div>\n",
       "<table border=\"1\" class=\"dataframe\">\n",
       "  <thead>\n",
       "    <tr style=\"text-align: right;\">\n",
       "      <th></th>\n",
       "      <th>PassengerId</th>\n",
       "      <th>Survived</th>\n",
       "      <th>Pclass</th>\n",
       "      <th>Age</th>\n",
       "      <th>SibSp</th>\n",
       "      <th>Parch</th>\n",
       "      <th>Fare</th>\n",
       "    </tr>\n",
       "  </thead>\n",
       "  <tbody>\n",
       "    <tr>\n",
       "      <th>count</th>\n",
       "      <td>891.000000</td>\n",
       "      <td>891.000000</td>\n",
       "      <td>891.000000</td>\n",
       "      <td>714.000000</td>\n",
       "      <td>891.000000</td>\n",
       "      <td>891.000000</td>\n",
       "      <td>891.000000</td>\n",
       "    </tr>\n",
       "    <tr>\n",
       "      <th>mean</th>\n",
       "      <td>446.000000</td>\n",
       "      <td>0.383838</td>\n",
       "      <td>2.308642</td>\n",
       "      <td>29.699118</td>\n",
       "      <td>0.523008</td>\n",
       "      <td>0.381594</td>\n",
       "      <td>32.204208</td>\n",
       "    </tr>\n",
       "    <tr>\n",
       "      <th>std</th>\n",
       "      <td>257.353842</td>\n",
       "      <td>0.486592</td>\n",
       "      <td>0.836071</td>\n",
       "      <td>14.526497</td>\n",
       "      <td>1.102743</td>\n",
       "      <td>0.806057</td>\n",
       "      <td>49.693429</td>\n",
       "    </tr>\n",
       "    <tr>\n",
       "      <th>min</th>\n",
       "      <td>1.000000</td>\n",
       "      <td>0.000000</td>\n",
       "      <td>1.000000</td>\n",
       "      <td>0.420000</td>\n",
       "      <td>0.000000</td>\n",
       "      <td>0.000000</td>\n",
       "      <td>0.000000</td>\n",
       "    </tr>\n",
       "    <tr>\n",
       "      <th>25%</th>\n",
       "      <td>223.500000</td>\n",
       "      <td>0.000000</td>\n",
       "      <td>2.000000</td>\n",
       "      <td>20.125000</td>\n",
       "      <td>0.000000</td>\n",
       "      <td>0.000000</td>\n",
       "      <td>7.910400</td>\n",
       "    </tr>\n",
       "    <tr>\n",
       "      <th>50%</th>\n",
       "      <td>446.000000</td>\n",
       "      <td>0.000000</td>\n",
       "      <td>3.000000</td>\n",
       "      <td>28.000000</td>\n",
       "      <td>0.000000</td>\n",
       "      <td>0.000000</td>\n",
       "      <td>14.454200</td>\n",
       "    </tr>\n",
       "    <tr>\n",
       "      <th>75%</th>\n",
       "      <td>668.500000</td>\n",
       "      <td>1.000000</td>\n",
       "      <td>3.000000</td>\n",
       "      <td>38.000000</td>\n",
       "      <td>1.000000</td>\n",
       "      <td>0.000000</td>\n",
       "      <td>31.000000</td>\n",
       "    </tr>\n",
       "    <tr>\n",
       "      <th>max</th>\n",
       "      <td>891.000000</td>\n",
       "      <td>1.000000</td>\n",
       "      <td>3.000000</td>\n",
       "      <td>80.000000</td>\n",
       "      <td>8.000000</td>\n",
       "      <td>6.000000</td>\n",
       "      <td>512.329200</td>\n",
       "    </tr>\n",
       "  </tbody>\n",
       "</table>\n",
       "</div>"
      ],
      "text/plain": [
       "       PassengerId    Survived      Pclass         Age       SibSp  \\\n",
       "count   891.000000  891.000000  891.000000  714.000000  891.000000   \n",
       "mean    446.000000    0.383838    2.308642   29.699118    0.523008   \n",
       "std     257.353842    0.486592    0.836071   14.526497    1.102743   \n",
       "min       1.000000    0.000000    1.000000    0.420000    0.000000   \n",
       "25%     223.500000    0.000000    2.000000   20.125000    0.000000   \n",
       "50%     446.000000    0.000000    3.000000   28.000000    0.000000   \n",
       "75%     668.500000    1.000000    3.000000   38.000000    1.000000   \n",
       "max     891.000000    1.000000    3.000000   80.000000    8.000000   \n",
       "\n",
       "            Parch        Fare  \n",
       "count  891.000000  891.000000  \n",
       "mean     0.381594   32.204208  \n",
       "std      0.806057   49.693429  \n",
       "min      0.000000    0.000000  \n",
       "25%      0.000000    7.910400  \n",
       "50%      0.000000   14.454200  \n",
       "75%      0.000000   31.000000  \n",
       "max      6.000000  512.329200  "
      ]
     },
     "execution_count": 84,
     "metadata": {},
     "output_type": "execute_result"
    }
   ],
   "source": [
    "train.describe()\n",
    "#Let's see some statistics of our data."
   ]
  },
  {
   "cell_type": "markdown",
   "metadata": {},
   "source": [
    "From describe, we found that average survival rate is 38.4%. Average age is 29.7 years old. Average siblings/spouses and parents/children abroad is 0.52 and 0.38. Average fare is 32.2, but the range of fares is very large. Let's visualize these columns."
   ]
  },
  {
   "cell_type": "code",
   "execution_count": 4,
   "metadata": {
    "collapsed": true
   },
   "outputs": [],
   "source": [
    "import matplotlib.pyplot as plt\n",
    "import seaborn as sns\n",
    "%matplotlib inline\n"
   ]
  },
  {
   "cell_type": "code",
   "execution_count": 87,
   "metadata": {
    "collapsed": false
   },
   "outputs": [
    {
     "data": {
      "text/plain": [
       "<matplotlib.text.Text at 0xd8b4f60>"
      ]
     },
     "execution_count": 87,
     "metadata": {},
     "output_type": "execute_result"
    },
    {
     "data": {
      "image/png": "[encoded data removed]",
      "text/plain": [
       "<matplotlib.figure.Figure at 0xdfb3668>"
      ]
     },
     "metadata": {},
     "output_type": "display_data"
    }
   ],
   "source": [
    "train['Survived'].value_counts().plot(kind='bar')\n",
    "plt.title('Survived or not Overall')\n",
    "plt.xlabel('Survived or not')\n",
    "plt.ylabel('Number of People')\n",
    "#Let's see how many people truly survived from this dataset.\n"
   ]
  },
  {
   "cell_type": "markdown",
   "metadata": {},
   "source": [
    "In this graph, you can see there are less people survived. So if we don't know anything about this dataset, we can easily guess that the possibility of a person to be survived from Titantic ship is less than 50%."
   ]
  },
  {
   "cell_type": "code",
   "execution_count": 89,
   "metadata": {
    "collapsed": false
   },
   "outputs": [
    {
     "data": {
      "text/plain": [
       "<matplotlib.text.Text at 0x116a0c50>"
      ]
     },
     "execution_count": 89,
     "metadata": {},
     "output_type": "execute_result"
    },
    {
     "data": {
      "image/png": "[encoded data removed]",
      "text/plain": [
       "<matplotlib.figure.Figure at 0xdf8ac88>"
      ]
     },
     "metadata": {},
     "output_type": "display_data"
    }
   ],
   "source": [
    "train['Relatives']= train['SibSp']+train['Parch']#Combine SibSp and Parch since they are both relatives of passengers.\n",
    "train['Relatives'].hist()\n",
    "plt.title('Relatives on abroad')\n",
    "plt.xlabel('Number of Relatives')\n",
    "plt.ylabel('Number of People')\n"
   ]
  },
  {
   "cell_type": "markdown",
   "metadata": {},
   "source": [
    "I combine SibSp and Parch since they are both relatives of passengers. This graph shows the distribution of relatives of all the people on this ship. Majority of them do not have relatives abroad, the distribution is positively skewed."
   ]
  },
  {
   "cell_type": "code",
   "execution_count": 90,
   "metadata": {
    "collapsed": true
   },
   "outputs": [],
   "source": [
    "test['Relatives']= test['SibSp']+test['Parch']"
   ]
  },
  {
   "cell_type": "code",
   "execution_count": 91,
   "metadata": {
    "collapsed": false
   },
   "outputs": [
    {
     "data": {
      "text/plain": [
       "<matplotlib.text.Text at 0xc238cc0>"
      ]
     },
     "execution_count": 91,
     "metadata": {},
     "output_type": "execute_result"
    },
    {
     "data": {
      "image/png": "[encoded data removed]",
      "text/plain": [
       "<matplotlib.figure.Figure at 0xf343198>"
      ]
     },
     "metadata": {},
     "output_type": "display_data"
    }
   ],
   "source": [
    "has_relative=train.Survived[train.Relatives>0].value_counts().plot(kind='bar')\n",
    "plt.title('Did people have relatives on abroad survived?')\n",
    "plt.xlabel('Survived or not')\n",
    "plt.ylabel('Number of People')\n"
   ]
  },
  {
   "cell_type": "markdown",
   "metadata": {},
   "source": [
    "We can see in this graph, people have relatives on abroad still had about 50% chance to survive, which is higher than the overall survive rate."
   ]
  },
  {
   "cell_type": "code",
   "execution_count": 92,
   "metadata": {
    "collapsed": false
   },
   "outputs": [
    {
     "data": {
      "text/plain": [
       "<matplotlib.text.Text at 0x104f55c0>"
      ]
     },
     "execution_count": 92,
     "metadata": {},
     "output_type": "execute_result"
    },
    {
     "data": {
      "image/png": "[encoded data removed]",
      "text/plain": [
       "<matplotlib.figure.Figure at 0x121b14a8>"
      ]
     },
     "metadata": {},
     "output_type": "display_data"
    }
   ],
   "source": [
    "no_relative=train.Survived[train.Relatives==0].value_counts().plot(kind='bar')\n",
    "plt.title('Did people have no relatives on abroad survived?')\n",
    "plt.xlabel('Survived or not')\n",
    "plt.ylabel('Number of People')\n"
   ]
  },
  {
   "cell_type": "markdown",
   "metadata": {},
   "source": [
    "In this graph, we find an interesting thing. That is if people didn't have relatives on abroad, they are less likely to survive."
   ]
  },
  {
   "cell_type": "code",
   "execution_count": 149,
   "metadata": {
    "collapsed": false
   },
   "outputs": [
    {
     "data": {
      "text/plain": [
       "<matplotlib.text.Text at 0xf1716d8>"
      ]
     },
     "execution_count": 149,
     "metadata": {},
     "output_type": "execute_result"
    },
    {
     "data": {
      "image/png": "[encoded data removed]",
      "text/plain": [
       "<matplotlib.figure.Figure at 0x12c27940>"
      ]
     },
     "metadata": {},
     "output_type": "display_data"
    }
   ],
   "source": [
    "train.Pclass.value_counts().plot(kind='bar')\n",
    "plt.title('Class Distribution')\n",
    "plt.xlabel('Class')\n",
    "plt.ylabel('Number of People')\n"
   ]
  },
  {
   "cell_type": "markdown",
   "metadata": {},
   "source": [
    "Based on this plot, almost half of them are Class 3 which means lower class."
   ]
  },
  {
   "cell_type": "code",
   "execution_count": 94,
   "metadata": {
    "collapsed": false
   },
   "outputs": [
    {
     "data": {
      "text/plain": [
       "<matplotlib.text.Text at 0x11f9af98>"
      ]
     },
     "execution_count": 94,
     "metadata": {},
     "output_type": "execute_result"
    },
    {
     "data": {
      "image/png": "[encoded data removed]",
      "text/plain": [
       "<matplotlib.figure.Figure at 0x122e4a58>"
      ]
     },
     "metadata": {},
     "output_type": "display_data"
    }
   ],
   "source": [
    "train['Age'].hist()\n",
    "plt.title('Age Distribution')\n",
    "plt.xlabel('Age')\n",
    "plt.ylabel('Number of People')\n"
   ]
  },
  {
   "cell_type": "markdown",
   "metadata": {},
   "source": [
    "This hist shows the majority of passengers are 20-40 years old. And Age distribution is positively skewed."
   ]
  },
  {
   "cell_type": "code",
   "execution_count": 95,
   "metadata": {
    "collapsed": true
   },
   "outputs": [],
   "source": [
    "train['Gender'] = train['Sex'].map( {'female': 0, 'male': 1} ).astype(int)\n",
    "test['Gender'] = test['Sex'].map( {'female': 0, 'male': 1} ).astype(int)\n",
    "#Convert female to 0 and male to 1."
   ]
  },
  {
   "cell_type": "code",
   "execution_count": 96,
   "metadata": {
    "collapsed": false
   },
   "outputs": [
    {
     "data": {
      "text/plain": [
       "<matplotlib.text.Text at 0x12989320>"
      ]
     },
     "execution_count": 96,
     "metadata": {},
     "output_type": "execute_result"
    },
    {
     "data": {
      "image/png": "[encoded data removed]",
      "text/plain": [
       "<matplotlib.figure.Figure at 0x122f6160>"
      ]
     },
     "metadata": {},
     "output_type": "display_data"
    }
   ],
   "source": [
    "\n",
    "female_highclass = train.Survived[train.Gender == 0][train.Pclass !=3].value_counts().plot(kind='bar')\n",
    "plt.title('Female Highclass')\n",
    "plt.xlabel('Survived or not')\n",
    "plt.ylabel('Number of People')\n"
   ]
  },
  {
   "cell_type": "markdown",
   "metadata": {},
   "source": [
    "So how the gender, class impact on the survival rate? Let's look closer. Here in the above plot of \"Female High class\", High class means not in the class 3. We can see that female in highclass are much more likely to survive."
   ]
  },
  {
   "cell_type": "code",
   "execution_count": 97,
   "metadata": {
    "collapsed": false
   },
   "outputs": [
    {
     "data": {
      "text/plain": [
       "<matplotlib.text.Text at 0x121d87f0>"
      ]
     },
     "execution_count": 97,
     "metadata": {},
     "output_type": "execute_result"
    },
    {
     "data": {
      "image/png": "[encoded data removed]",
      "text/plain": [
       "<matplotlib.figure.Figure at 0x12a05160>"
      ]
     },
     "metadata": {},
     "output_type": "display_data"
    }
   ],
   "source": [
    "female_lowclass = train.Survived[train.Gender == 0][train.Pclass ==3].value_counts().plot(kind='bar')\n",
    "plt.title('Female Lowclass')\n",
    "plt.xlabel('Survived or not')\n",
    "plt.ylabel('Number of People')\n"
   ]
  },
  {
   "cell_type": "markdown",
   "metadata": {},
   "source": [
    "We can see that female in lowclass have about 50% chance to survive."
   ]
  },
  {
   "cell_type": "code",
   "execution_count": 98,
   "metadata": {
    "collapsed": false
   },
   "outputs": [
    {
     "data": {
      "text/plain": [
       "<matplotlib.text.Text at 0x127f9630>"
      ]
     },
     "execution_count": 98,
     "metadata": {},
     "output_type": "execute_result"
    },
    {
     "data": {
      "image/png": "[encoded data removed]",
      "text/plain": [
       "<matplotlib.figure.Figure at 0x12d94320>"
      ]
     },
     "metadata": {},
     "output_type": "display_data"
    }
   ],
   "source": [
    "male_highclass = train.Survived[train.Gender == 1][train.Pclass !=3].value_counts().plot(kind='bar')\n",
    "plt.title('Male Highclass')\n",
    "plt.xlabel('Survived or not')\n",
    "plt.ylabel('Number of People')\n"
   ]
  },
  {
   "cell_type": "markdown",
   "metadata": {},
   "source": [
    "We can see that male in highclass are less likely to survive, quite opposite to female in highclass."
   ]
  },
  {
   "cell_type": "code",
   "execution_count": 99,
   "metadata": {
    "collapsed": false
   },
   "outputs": [
    {
     "data": {
      "text/plain": [
       "<matplotlib.text.Text at 0x129ed9e8>"
      ]
     },
     "execution_count": 99,
     "metadata": {},
     "output_type": "execute_result"
    },
    {
     "data": {
      "image/png": "[encoded data removed]",
      "text/plain": [
       "<matplotlib.figure.Figure at 0x12fd9fd0>"
      ]
     },
     "metadata": {},
     "output_type": "display_data"
    }
   ],
   "source": [
    "male_lowclass = train.Survived[train.Gender == 0][train.Pclass ==3].value_counts().plot(kind='bar')\n",
    "plt.title('Male Lowclass')\n",
    "plt.xlabel('Survived or not')\n",
    "plt.ylabel('Number of People')\n"
   ]
  },
  {
   "cell_type": "markdown",
   "metadata": {},
   "source": [
    "We can see that male in lowclass have about 50% chance to survive, just like female in lowclass."
   ]
  },
  {
   "cell_type": "markdown",
   "metadata": {},
   "source": [
    "So in summary, in these four graphs that the female in high class has extremely high survival rate than low class. However, male in high class are much less likely to survive. That's very interesting."
   ]
  },
  {
   "cell_type": "code",
   "execution_count": 156,
   "metadata": {
    "collapsed": false
   },
   "outputs": [
    {
     "data": {
      "text/plain": [
       "<matplotlib.text.Text at 0x1d3779e8>"
      ]
     },
     "execution_count": 156,
     "metadata": {},
     "output_type": "execute_result"
    },
    {
     "data": {
      "image/png": "[encoded data removed]",
      "text/plain": [
       "<matplotlib.figure.Figure at 0x1d275f28>"
      ]
     },
     "metadata": {},
     "output_type": "display_data"
    }
   ],
   "source": [
    "import seaborn\n",
    "str(train.Pclass)\n",
    "seaborn.violinplot(train['Pclass'],train['Fare'])\n",
    "plt.title('How Fare distributed in different class')\n",
    "plt.xlabel('Class')\n",
    "plt.ylabel('Fare')\n",
    "#show how the fare distribued to three classes.\n"
   ]
  },
  {
   "cell_type": "markdown",
   "metadata": {},
   "source": [
    "We can see even within one class, the fare is varying from one to one. So I might need both variables to create the model. Also, we can see that varity of fare is much larger in Class 1 than class 2 and 3. "
   ]
  },
  {
   "cell_type": "markdown",
   "metadata": {},
   "source": [
    "### Cleaning the data"
   ]
  },
  {
   "cell_type": "markdown",
   "metadata": {},
   "source": [
    "Now, I'm going to set utrain = pd.read_csv('train.csv', header=0)\n",
    "test = pd.read_csv('test.csv', header=0)#import data with headerp my training set. I'm not using Name, passengerId, Ticket and Cabin info. (We miss too much Cabin info. And the ticket really has no meaning.)"
   ]
  },
  {
   "cell_type": "code",
   "execution_count": 3,
   "metadata": {
    "collapsed": true
   },
   "outputs": [],
   "source": [
    "train = pd.read_csv('train.csv', header=0)\n",
    "test = pd.read_csv('test.csv', header=0)#import data with header"
   ]
  },
  {
   "cell_type": "markdown",
   "metadata": {},
   "source": [
    "Frist, I'm going to combine sibsp and parch to a new colcumn as relatives."
   ]
  },
  {
   "cell_type": "code",
   "execution_count": 5,
   "metadata": {
    "collapsed": true
   },
   "outputs": [],
   "source": [
    "train['Relatives']= train['SibSp']+train['Parch']#Combine SibSp and Parch since they are both relatives of passengers.\n",
    "test['Relatives']= test['SibSp']+test['Parch']"
   ]
  },
  {
   "cell_type": "markdown",
   "metadata": {},
   "source": [
    "Then I convert female to 0 and male to 1."
   ]
  },
  {
   "cell_type": "code",
   "execution_count": 6,
   "metadata": {
    "collapsed": true
   },
   "outputs": [],
   "source": [
    "train['Gender'] = train['Sex'].map( {'female': 0, 'male': 1} ).astype(int)\n",
    "test['Gender'] = test['Sex'].map( {'female': 0, 'male': 1} ).astype(int)\n",
    "#Convert female to 0 and male to 1."
   ]
  },
  {
   "cell_type": "markdown",
   "metadata": {},
   "source": [
    "I create dummy variables for 3 pclasses."
   ]
  },
  {
   "cell_type": "code",
   "execution_count": 7,
   "metadata": {
    "collapsed": false
   },
   "outputs": [
    {
     "data": {
      "text/html": [
       "<div>\n",
       "<table border=\"1\" class=\"dataframe\">\n",
       "  <thead>\n",
       "    <tr style=\"text-align: right;\">\n",
       "      <th></th>\n",
       "      <th>PassengerId</th>\n",
       "      <th>Survived</th>\n",
       "      <th>Pclass</th>\n",
       "      <th>Name</th>\n",
       "      <th>Sex</th>\n",
       "      <th>Age</th>\n",
       "      <th>SibSp</th>\n",
       "      <th>Parch</th>\n",
       "      <th>Ticket</th>\n",
       "      <th>Fare</th>\n",
       "      <th>Cabin</th>\n",
       "      <th>Embarked</th>\n",
       "      <th>Relatives</th>\n",
       "      <th>Gender</th>\n",
       "      <th>pclass_1</th>\n",
       "      <th>pclass_2</th>\n",
       "      <th>pclass_3</th>\n",
       "    </tr>\n",
       "  </thead>\n",
       "  <tbody>\n",
       "    <tr>\n",
       "      <th>0</th>\n",
       "      <td>1</td>\n",
       "      <td>0</td>\n",
       "      <td>3</td>\n",
       "      <td>Braund, Mr. Owen Harris</td>\n",
       "      <td>male</td>\n",
       "      <td>22.0</td>\n",
       "      <td>1</td>\n",
       "      <td>0</td>\n",
       "      <td>A/5 21171</td>\n",
       "      <td>7.2500</td>\n",
       "      <td>NaN</td>\n",
       "      <td>S</td>\n",
       "      <td>1</td>\n",
       "      <td>1</td>\n",
       "      <td>0</td>\n",
       "      <td>0</td>\n",
       "      <td>1</td>\n",
       "    </tr>\n",
       "    <tr>\n",
       "      <th>1</th>\n",
       "      <td>2</td>\n",
       "      <td>1</td>\n",
       "      <td>1</td>\n",
       "      <td>Cumings, Mrs. John Bradley (Florence Briggs Th...</td>\n",
       "      <td>female</td>\n",
       "      <td>38.0</td>\n",
       "      <td>1</td>\n",
       "      <td>0</td>\n",
       "      <td>PC 17599</td>\n",
       "      <td>71.2833</td>\n",
       "      <td>C85</td>\n",
       "      <td>C</td>\n",
       "      <td>1</td>\n",
       "      <td>0</td>\n",
       "      <td>1</td>\n",
       "      <td>0</td>\n",
       "      <td>0</td>\n",
       "    </tr>\n",
       "    <tr>\n",
       "      <th>2</th>\n",
       "      <td>3</td>\n",
       "      <td>1</td>\n",
       "      <td>3</td>\n",
       "      <td>Heikkinen, Miss. Laina</td>\n",
       "      <td>female</td>\n",
       "      <td>26.0</td>\n",
       "      <td>0</td>\n",
       "      <td>0</td>\n",
       "      <td>STON/O2. 3101282</td>\n",
       "      <td>7.9250</td>\n",
       "      <td>NaN</td>\n",
       "      <td>S</td>\n",
       "      <td>0</td>\n",
       "      <td>0</td>\n",
       "      <td>0</td>\n",
       "      <td>0</td>\n",
       "      <td>1</td>\n",
       "    </tr>\n",
       "    <tr>\n",
       "      <th>3</th>\n",
       "      <td>4</td>\n",
       "      <td>1</td>\n",
       "      <td>1</td>\n",
       "      <td>Futrelle, Mrs. Jacques Heath (Lily May Peel)</td>\n",
       "      <td>female</td>\n",
       "      <td>35.0</td>\n",
       "      <td>1</td>\n",
       "      <td>0</td>\n",
       "      <td>113803</td>\n",
       "      <td>53.1000</td>\n",
       "      <td>C123</td>\n",
       "      <td>S</td>\n",
       "      <td>1</td>\n",
       "      <td>0</td>\n",
       "      <td>1</td>\n",
       "      <td>0</td>\n",
       "      <td>0</td>\n",
       "    </tr>\n",
       "    <tr>\n",
       "      <th>4</th>\n",
       "      <td>5</td>\n",
       "      <td>0</td>\n",
       "      <td>3</td>\n",
       "      <td>Allen, Mr. William Henry</td>\n",
       "      <td>male</td>\n",
       "      <td>35.0</td>\n",
       "      <td>0</td>\n",
       "      <td>0</td>\n",
       "      <td>373450</td>\n",
       "      <td>8.0500</td>\n",
       "      <td>NaN</td>\n",
       "      <td>S</td>\n",
       "      <td>0</td>\n",
       "      <td>1</td>\n",
       "      <td>0</td>\n",
       "      <td>0</td>\n",
       "      <td>1</td>\n",
       "    </tr>\n",
       "  </tbody>\n",
       "</table>\n",
       "</div>"
      ],
      "text/plain": [
       "   PassengerId  Survived  Pclass  \\\n",
       "0            1         0       3   \n",
       "1            2         1       1   \n",
       "2            3         1       3   \n",
       "3            4         1       1   \n",
       "4            5         0       3   \n",
       "\n",
       "                                                Name     Sex   Age  SibSp  \\\n",
       "0                            Braund, Mr. Owen Harris    male  22.0      1   \n",
       "1  Cumings, Mrs. John Bradley (Florence Briggs Th...  female  38.0      1   \n",
       "2                             Heikkinen, Miss. Laina  female  26.0      0   \n",
       "3       Futrelle, Mrs. Jacques Heath (Lily May Peel)  female  35.0      1   \n",
       "4                           Allen, Mr. William Henry    male  35.0      0   \n",
       "\n",
       "   Parch            Ticket     Fare Cabin Embarked  Relatives  Gender  \\\n",
       "0      0         A/5 21171   7.2500   NaN        S          1       1   \n",
       "1      0          PC 17599  71.2833   C85        C          1       0   \n",
       "2      0  STON/O2. 3101282   7.9250   NaN        S          0       0   \n",
       "3      0            113803  53.1000  C123        S          1       0   \n",
       "4      0            373450   8.0500   NaN        S          0       1   \n",
       "\n",
       "   pclass_1  pclass_2  pclass_3  \n",
       "0         0         0         1  \n",
       "1         1         0         0  \n",
       "2         0         0         1  \n",
       "3         1         0         0  \n",
       "4         0         0         1  "
      ]
     },
     "execution_count": 7,
     "metadata": {},
     "output_type": "execute_result"
    }
   ],
   "source": [
    "train_pclass = pd.get_dummies(train['Pclass'],prefix = 'pclass')\n",
    "train1 = pd.concat([train,train_pclass],axis = 1)\n",
    "train1.head()"
   ]
  },
  {
   "cell_type": "code",
   "execution_count": 8,
   "metadata": {
    "collapsed": false
   },
   "outputs": [
    {
     "data": {
      "text/html": [
       "<div>\n",
       "<table border=\"1\" class=\"dataframe\">\n",
       "  <thead>\n",
       "    <tr style=\"text-align: right;\">\n",
       "      <th></th>\n",
       "      <th>PassengerId</th>\n",
       "      <th>Pclass</th>\n",
       "      <th>Name</th>\n",
       "      <th>Sex</th>\n",
       "      <th>Age</th>\n",
       "      <th>SibSp</th>\n",
       "      <th>Parch</th>\n",
       "      <th>Ticket</th>\n",
       "      <th>Fare</th>\n",
       "      <th>Cabin</th>\n",
       "      <th>Embarked</th>\n",
       "      <th>Relatives</th>\n",
       "      <th>Gender</th>\n",
       "      <th>pclass_1</th>\n",
       "      <th>pclass_2</th>\n",
       "      <th>pclass_3</th>\n",
       "    </tr>\n",
       "  </thead>\n",
       "  <tbody>\n",
       "    <tr>\n",
       "      <th>0</th>\n",
       "      <td>892</td>\n",
       "      <td>3</td>\n",
       "      <td>Kelly, Mr. James</td>\n",
       "      <td>male</td>\n",
       "      <td>34.5</td>\n",
       "      <td>0</td>\n",
       "      <td>0</td>\n",
       "      <td>330911</td>\n",
       "      <td>7.8292</td>\n",
       "      <td>NaN</td>\n",
       "      <td>Q</td>\n",
       "      <td>0</td>\n",
       "      <td>1</td>\n",
       "      <td>0</td>\n",
       "      <td>0</td>\n",
       "      <td>1</td>\n",
       "    </tr>\n",
       "    <tr>\n",
       "      <th>1</th>\n",
       "      <td>893</td>\n",
       "      <td>3</td>\n",
       "      <td>Wilkes, Mrs. James (Ellen Needs)</td>\n",
       "      <td>female</td>\n",
       "      <td>47.0</td>\n",
       "      <td>1</td>\n",
       "      <td>0</td>\n",
       "      <td>363272</td>\n",
       "      <td>7.0000</td>\n",
       "      <td>NaN</td>\n",
       "      <td>S</td>\n",
       "      <td>1</td>\n",
       "      <td>0</td>\n",
       "      <td>0</td>\n",
       "      <td>0</td>\n",
       "      <td>1</td>\n",
       "    </tr>\n",
       "    <tr>\n",
       "      <th>2</th>\n",
       "      <td>894</td>\n",
       "      <td>2</td>\n",
       "      <td>Myles, Mr. Thomas Francis</td>\n",
       "      <td>male</td>\n",
       "      <td>62.0</td>\n",
       "      <td>0</td>\n",
       "      <td>0</td>\n",
       "      <td>240276</td>\n",
       "      <td>9.6875</td>\n",
       "      <td>NaN</td>\n",
       "      <td>Q</td>\n",
       "      <td>0</td>\n",
       "      <td>1</td>\n",
       "      <td>0</td>\n",
       "      <td>1</td>\n",
       "      <td>0</td>\n",
       "    </tr>\n",
       "    <tr>\n",
       "      <th>3</th>\n",
       "      <td>895</td>\n",
       "      <td>3</td>\n",
       "      <td>Wirz, Mr. Albert</td>\n",
       "      <td>male</td>\n",
       "      <td>27.0</td>\n",
       "      <td>0</td>\n",
       "      <td>0</td>\n",
       "      <td>315154</td>\n",
       "      <td>8.6625</td>\n",
       "      <td>NaN</td>\n",
       "      <td>S</td>\n",
       "      <td>0</td>\n",
       "      <td>1</td>\n",
       "      <td>0</td>\n",
       "      <td>0</td>\n",
       "      <td>1</td>\n",
       "    </tr>\n",
       "    <tr>\n",
       "      <th>4</th>\n",
       "      <td>896</td>\n",
       "      <td>3</td>\n",
       "      <td>Hirvonen, Mrs. Alexander (Helga E Lindqvist)</td>\n",
       "      <td>female</td>\n",
       "      <td>22.0</td>\n",
       "      <td>1</td>\n",
       "      <td>1</td>\n",
       "      <td>3101298</td>\n",
       "      <td>12.2875</td>\n",
       "      <td>NaN</td>\n",
       "      <td>S</td>\n",
       "      <td>2</td>\n",
       "      <td>0</td>\n",
       "      <td>0</td>\n",
       "      <td>0</td>\n",
       "      <td>1</td>\n",
       "    </tr>\n",
       "  </tbody>\n",
       "</table>\n",
       "</div>"
      ],
      "text/plain": [
       "   PassengerId  Pclass                                          Name     Sex  \\\n",
       "0          892       3                              Kelly, Mr. James    male   \n",
       "1          893       3              Wilkes, Mrs. James (Ellen Needs)  female   \n",
       "2          894       2                     Myles, Mr. Thomas Francis    male   \n",
       "3          895       3                              Wirz, Mr. Albert    male   \n",
       "4          896       3  Hirvonen, Mrs. Alexander (Helga E Lindqvist)  female   \n",
       "\n",
       "    Age  SibSp  Parch   Ticket     Fare Cabin Embarked  Relatives  Gender  \\\n",
       "0  34.5      0      0   330911   7.8292   NaN        Q          0       1   \n",
       "1  47.0      1      0   363272   7.0000   NaN        S          1       0   \n",
       "2  62.0      0      0   240276   9.6875   NaN        Q          0       1   \n",
       "3  27.0      0      0   315154   8.6625   NaN        S          0       1   \n",
       "4  22.0      1      1  3101298  12.2875   NaN        S          2       0   \n",
       "\n",
       "   pclass_1  pclass_2  pclass_3  \n",
       "0         0         0         1  \n",
       "1         0         0         1  \n",
       "2         0         1         0  \n",
       "3         0         0         1  \n",
       "4         0         0         1  "
      ]
     },
     "execution_count": 8,
     "metadata": {},
     "output_type": "execute_result"
    }
   ],
   "source": [
    "test_pclass = pd.get_dummies(test['Pclass'],prefix = 'pclass')\n",
    "test1 = pd.concat([test,test_pclass],axis = 1)\n",
    "test1.head()"
   ]
  },
  {
   "cell_type": "markdown",
   "metadata": {},
   "source": [
    "Create dummy variables for Embarked."
   ]
  },
  {
   "cell_type": "code",
   "execution_count": 9,
   "metadata": {
    "collapsed": false
   },
   "outputs": [
    {
     "data": {
      "text/html": [
       "<div>\n",
       "<table border=\"1\" class=\"dataframe\">\n",
       "  <thead>\n",
       "    <tr style=\"text-align: right;\">\n",
       "      <th></th>\n",
       "      <th>PassengerId</th>\n",
       "      <th>Survived</th>\n",
       "      <th>Pclass</th>\n",
       "      <th>Name</th>\n",
       "      <th>Sex</th>\n",
       "      <th>Age</th>\n",
       "      <th>SibSp</th>\n",
       "      <th>Parch</th>\n",
       "      <th>Ticket</th>\n",
       "      <th>Fare</th>\n",
       "      <th>Cabin</th>\n",
       "      <th>Embarked</th>\n",
       "      <th>Relatives</th>\n",
       "      <th>Gender</th>\n",
       "    </tr>\n",
       "  </thead>\n",
       "  <tbody>\n",
       "    <tr>\n",
       "      <th>61</th>\n",
       "      <td>62</td>\n",
       "      <td>1</td>\n",
       "      <td>1</td>\n",
       "      <td>Icard, Miss. Amelie</td>\n",
       "      <td>female</td>\n",
       "      <td>38.0</td>\n",
       "      <td>0</td>\n",
       "      <td>0</td>\n",
       "      <td>113572</td>\n",
       "      <td>80.0</td>\n",
       "      <td>B28</td>\n",
       "      <td>NaN</td>\n",
       "      <td>0</td>\n",
       "      <td>0</td>\n",
       "    </tr>\n",
       "    <tr>\n",
       "      <th>829</th>\n",
       "      <td>830</td>\n",
       "      <td>1</td>\n",
       "      <td>1</td>\n",
       "      <td>Stone, Mrs. George Nelson (Martha Evelyn)</td>\n",
       "      <td>female</td>\n",
       "      <td>62.0</td>\n",
       "      <td>0</td>\n",
       "      <td>0</td>\n",
       "      <td>113572</td>\n",
       "      <td>80.0</td>\n",
       "      <td>B28</td>\n",
       "      <td>NaN</td>\n",
       "      <td>0</td>\n",
       "      <td>0</td>\n",
       "    </tr>\n",
       "  </tbody>\n",
       "</table>\n",
       "</div>"
      ],
      "text/plain": [
       "     PassengerId  Survived  Pclass                                       Name  \\\n",
       "61            62         1       1                        Icard, Miss. Amelie   \n",
       "829          830         1       1  Stone, Mrs. George Nelson (Martha Evelyn)   \n",
       "\n",
       "        Sex   Age  SibSp  Parch  Ticket  Fare Cabin Embarked  Relatives  \\\n",
       "61   female  38.0      0      0  113572  80.0   B28      NaN          0   \n",
       "829  female  62.0      0      0  113572  80.0   B28      NaN          0   \n",
       "\n",
       "     Gender  \n",
       "61        0  \n",
       "829       0  "
      ]
     },
     "execution_count": 9,
     "metadata": {},
     "output_type": "execute_result"
    }
   ],
   "source": [
    "train[train['Embarked'].isnull()]# we need fill Embarked at first."
   ]
  },
  {
   "cell_type": "markdown",
   "metadata": {},
   "source": [
    "Both passengers are female, fare = 80 and pclass = 1. Based on the boxplot, we can fill \"C\" for those two passengers."
   ]
  },
  {
   "cell_type": "code",
   "execution_count": 10,
   "metadata": {
    "collapsed": false
   },
   "outputs": [
    {
     "name": "stderr",
     "output_type": "stream",
     "text": [
      "C:\\Users\\Ruofei\\Anaconda2\\lib\\site-packages\\seaborn\\categorical.py:342: DeprecationWarning: pandas.core.common.is_categorical_dtype is deprecated. import from the public API: pandas.api.types.is_categorical_dtype instead\n",
      "  elif is_categorical(y):\n"
     ]
    },
    {
     "data": {
      "text/plain": [
       "<matplotlib.axes._subplots.AxesSubplot at 0xc20cf28>"
      ]
     },
     "execution_count": 10,
     "metadata": {},
     "output_type": "execute_result"
    },
    {
     "data": {
      "image/png": "[encoded data removed]",
      "text/plain": [
       "<matplotlib.figure.Figure at 0xbda8c88>"
      ]
     },
     "metadata": {},
     "output_type": "display_data"
    }
   ],
   "source": [
    "sns.boxplot(x=\"Embarked\", y=\"Fare\", hue=\"Pclass\", data=train)"
   ]
  },
  {
   "cell_type": "code",
   "execution_count": 11,
   "metadata": {
    "collapsed": true
   },
   "outputs": [],
   "source": [
    "train[\"Embarked\"] = train[\"Embarked\"].fillna('C')"
   ]
  },
  {
   "cell_type": "code",
   "execution_count": 12,
   "metadata": {
    "collapsed": false
   },
   "outputs": [
    {
     "data": {
      "text/html": [
       "<div>\n",
       "<table border=\"1\" class=\"dataframe\">\n",
       "  <thead>\n",
       "    <tr style=\"text-align: right;\">\n",
       "      <th></th>\n",
       "      <th>PassengerId</th>\n",
       "      <th>Pclass</th>\n",
       "      <th>Name</th>\n",
       "      <th>Sex</th>\n",
       "      <th>Age</th>\n",
       "      <th>SibSp</th>\n",
       "      <th>Parch</th>\n",
       "      <th>Ticket</th>\n",
       "      <th>Fare</th>\n",
       "      <th>Cabin</th>\n",
       "      <th>Embarked</th>\n",
       "      <th>Relatives</th>\n",
       "      <th>Gender</th>\n",
       "    </tr>\n",
       "  </thead>\n",
       "  <tbody>\n",
       "  </tbody>\n",
       "</table>\n",
       "</div>"
      ],
      "text/plain": [
       "Empty DataFrame\n",
       "Columns: [PassengerId, Pclass, Name, Sex, Age, SibSp, Parch, Ticket, Fare, Cabin, Embarked, Relatives, Gender]\n",
       "Index: []"
      ]
     },
     "execution_count": 12,
     "metadata": {},
     "output_type": "execute_result"
    }
   ],
   "source": [
    "test[test['Embarked'].isnull()]"
   ]
  },
  {
   "cell_type": "code",
   "execution_count": 13,
   "metadata": {
    "collapsed": false
   },
   "outputs": [
    {
     "data": {
      "text/html": [
       "<div>\n",
       "<table border=\"1\" class=\"dataframe\">\n",
       "  <thead>\n",
       "    <tr style=\"text-align: right;\">\n",
       "      <th></th>\n",
       "      <th>PassengerId</th>\n",
       "      <th>Survived</th>\n",
       "      <th>Pclass</th>\n",
       "      <th>Name</th>\n",
       "      <th>Sex</th>\n",
       "      <th>Age</th>\n",
       "      <th>SibSp</th>\n",
       "      <th>Parch</th>\n",
       "      <th>Ticket</th>\n",
       "      <th>Fare</th>\n",
       "      <th>Cabin</th>\n",
       "      <th>Embarked</th>\n",
       "      <th>Relatives</th>\n",
       "      <th>Gender</th>\n",
       "      <th>pclass_1</th>\n",
       "      <th>pclass_2</th>\n",
       "      <th>pclass_3</th>\n",
       "      <th>Embarked_C</th>\n",
       "      <th>Embarked_Q</th>\n",
       "      <th>Embarked_S</th>\n",
       "    </tr>\n",
       "  </thead>\n",
       "  <tbody>\n",
       "    <tr>\n",
       "      <th>0</th>\n",
       "      <td>1</td>\n",
       "      <td>0</td>\n",
       "      <td>3</td>\n",
       "      <td>Braund, Mr. Owen Harris</td>\n",
       "      <td>male</td>\n",
       "      <td>22.0</td>\n",
       "      <td>1</td>\n",
       "      <td>0</td>\n",
       "      <td>A/5 21171</td>\n",
       "      <td>7.2500</td>\n",
       "      <td>NaN</td>\n",
       "      <td>S</td>\n",
       "      <td>1</td>\n",
       "      <td>1</td>\n",
       "      <td>0</td>\n",
       "      <td>0</td>\n",
       "      <td>1</td>\n",
       "      <td>0</td>\n",
       "      <td>0</td>\n",
       "      <td>1</td>\n",
       "    </tr>\n",
       "    <tr>\n",
       "      <th>1</th>\n",
       "      <td>2</td>\n",
       "      <td>1</td>\n",
       "      <td>1</td>\n",
       "      <td>Cumings, Mrs. John Bradley (Florence Briggs Th...</td>\n",
       "      <td>female</td>\n",
       "      <td>38.0</td>\n",
       "      <td>1</td>\n",
       "      <td>0</td>\n",
       "      <td>PC 17599</td>\n",
       "      <td>71.2833</td>\n",
       "      <td>C85</td>\n",
       "      <td>C</td>\n",
       "      <td>1</td>\n",
       "      <td>0</td>\n",
       "      <td>1</td>\n",
       "      <td>0</td>\n",
       "      <td>0</td>\n",
       "      <td>1</td>\n",
       "      <td>0</td>\n",
       "      <td>0</td>\n",
       "    </tr>\n",
       "    <tr>\n",
       "      <th>2</th>\n",
       "      <td>3</td>\n",
       "      <td>1</td>\n",
       "      <td>3</td>\n",
       "      <td>Heikkinen, Miss. Laina</td>\n",
       "      <td>female</td>\n",
       "      <td>26.0</td>\n",
       "      <td>0</td>\n",
       "      <td>0</td>\n",
       "      <td>STON/O2. 3101282</td>\n",
       "      <td>7.9250</td>\n",
       "      <td>NaN</td>\n",
       "      <td>S</td>\n",
       "      <td>0</td>\n",
       "      <td>0</td>\n",
       "      <td>0</td>\n",
       "      <td>0</td>\n",
       "      <td>1</td>\n",
       "      <td>0</td>\n",
       "      <td>0</td>\n",
       "      <td>1</td>\n",
       "    </tr>\n",
       "    <tr>\n",
       "      <th>3</th>\n",
       "      <td>4</td>\n",
       "      <td>1</td>\n",
       "      <td>1</td>\n",
       "      <td>Futrelle, Mrs. Jacques Heath (Lily May Peel)</td>\n",
       "      <td>female</td>\n",
       "      <td>35.0</td>\n",
       "      <td>1</td>\n",
       "      <td>0</td>\n",
       "      <td>113803</td>\n",
       "      <td>53.1000</td>\n",
       "      <td>C123</td>\n",
       "      <td>S</td>\n",
       "      <td>1</td>\n",
       "      <td>0</td>\n",
       "      <td>1</td>\n",
       "      <td>0</td>\n",
       "      <td>0</td>\n",
       "      <td>0</td>\n",
       "      <td>0</td>\n",
       "      <td>1</td>\n",
       "    </tr>\n",
       "    <tr>\n",
       "      <th>4</th>\n",
       "      <td>5</td>\n",
       "      <td>0</td>\n",
       "      <td>3</td>\n",
       "      <td>Allen, Mr. William Henry</td>\n",
       "      <td>male</td>\n",
       "      <td>35.0</td>\n",
       "      <td>0</td>\n",
       "      <td>0</td>\n",
       "      <td>373450</td>\n",
       "      <td>8.0500</td>\n",
       "      <td>NaN</td>\n",
       "      <td>S</td>\n",
       "      <td>0</td>\n",
       "      <td>1</td>\n",
       "      <td>0</td>\n",
       "      <td>0</td>\n",
       "      <td>1</td>\n",
       "      <td>0</td>\n",
       "      <td>0</td>\n",
       "      <td>1</td>\n",
       "    </tr>\n",
       "  </tbody>\n",
       "</table>\n",
       "</div>"
      ],
      "text/plain": [
       "   PassengerId  Survived  Pclass  \\\n",
       "0            1         0       3   \n",
       "1            2         1       1   \n",
       "2            3         1       3   \n",
       "3            4         1       1   \n",
       "4            5         0       3   \n",
       "\n",
       "                                                Name     Sex   Age  SibSp  \\\n",
       "0                            Braund, Mr. Owen Harris    male  22.0      1   \n",
       "1  Cumings, Mrs. John Bradley (Florence Briggs Th...  female  38.0      1   \n",
       "2                             Heikkinen, Miss. Laina  female  26.0      0   \n",
       "3       Futrelle, Mrs. Jacques Heath (Lily May Peel)  female  35.0      1   \n",
       "4                           Allen, Mr. William Henry    male  35.0      0   \n",
       "\n",
       "   Parch            Ticket     Fare Cabin Embarked  Relatives  Gender  \\\n",
       "0      0         A/5 21171   7.2500   NaN        S          1       1   \n",
       "1      0          PC 17599  71.2833   C85        C          1       0   \n",
       "2      0  STON/O2. 3101282   7.9250   NaN        S          0       0   \n",
       "3      0            113803  53.1000  C123        S          1       0   \n",
       "4      0            373450   8.0500   NaN        S          0       1   \n",
       "\n",
       "   pclass_1  pclass_2  pclass_3  Embarked_C  Embarked_Q  Embarked_S  \n",
       "0         0         0         1           0           0           1  \n",
       "1         1         0         0           1           0           0  \n",
       "2         0         0         1           0           0           1  \n",
       "3         1         0         0           0           0           1  \n",
       "4         0         0         1           0           0           1  "
      ]
     },
     "execution_count": 13,
     "metadata": {},
     "output_type": "execute_result"
    }
   ],
   "source": [
    "train_embarked = pd.get_dummies(train['Embarked'],prefix = 'Embarked')\n",
    "train1 = pd.concat([train1,train_embarked],axis = 1)\n",
    "train1.head()"
   ]
  },
  {
   "cell_type": "code",
   "execution_count": 14,
   "metadata": {
    "collapsed": false
   },
   "outputs": [
    {
     "data": {
      "text/html": [
       "<div>\n",
       "<table border=\"1\" class=\"dataframe\">\n",
       "  <thead>\n",
       "    <tr style=\"text-align: right;\">\n",
       "      <th></th>\n",
       "      <th>PassengerId</th>\n",
       "      <th>Pclass</th>\n",
       "      <th>Name</th>\n",
       "      <th>Sex</th>\n",
       "      <th>Age</th>\n",
       "      <th>SibSp</th>\n",
       "      <th>Parch</th>\n",
       "      <th>Ticket</th>\n",
       "      <th>Fare</th>\n",
       "      <th>Cabin</th>\n",
       "      <th>Embarked</th>\n",
       "      <th>Relatives</th>\n",
       "      <th>Gender</th>\n",
       "      <th>pclass_1</th>\n",
       "      <th>pclass_2</th>\n",
       "      <th>pclass_3</th>\n",
       "      <th>Embarked_C</th>\n",
       "      <th>Embarked_Q</th>\n",
       "      <th>Embarked_S</th>\n",
       "    </tr>\n",
       "  </thead>\n",
       "  <tbody>\n",
       "    <tr>\n",
       "      <th>0</th>\n",
       "      <td>892</td>\n",
       "      <td>3</td>\n",
       "      <td>Kelly, Mr. James</td>\n",
       "      <td>male</td>\n",
       "      <td>34.5</td>\n",
       "      <td>0</td>\n",
       "      <td>0</td>\n",
       "      <td>330911</td>\n",
       "      <td>7.8292</td>\n",
       "      <td>NaN</td>\n",
       "      <td>Q</td>\n",
       "      <td>0</td>\n",
       "      <td>1</td>\n",
       "      <td>0</td>\n",
       "      <td>0</td>\n",
       "      <td>1</td>\n",
       "      <td>0</td>\n",
       "      <td>1</td>\n",
       "      <td>0</td>\n",
       "    </tr>\n",
       "    <tr>\n",
       "      <th>1</th>\n",
       "      <td>893</td>\n",
       "      <td>3</td>\n",
       "      <td>Wilkes, Mrs. James (Ellen Needs)</td>\n",
       "      <td>female</td>\n",
       "      <td>47.0</td>\n",
       "      <td>1</td>\n",
       "      <td>0</td>\n",
       "      <td>363272</td>\n",
       "      <td>7.0000</td>\n",
       "      <td>NaN</td>\n",
       "      <td>S</td>\n",
       "      <td>1</td>\n",
       "      <td>0</td>\n",
       "      <td>0</td>\n",
       "      <td>0</td>\n",
       "      <td>1</td>\n",
       "      <td>0</td>\n",
       "      <td>0</td>\n",
       "      <td>1</td>\n",
       "    </tr>\n",
       "    <tr>\n",
       "      <th>2</th>\n",
       "      <td>894</td>\n",
       "      <td>2</td>\n",
       "      <td>Myles, Mr. Thomas Francis</td>\n",
       "      <td>male</td>\n",
       "      <td>62.0</td>\n",
       "      <td>0</td>\n",
       "      <td>0</td>\n",
       "      <td>240276</td>\n",
       "      <td>9.6875</td>\n",
       "      <td>NaN</td>\n",
       "      <td>Q</td>\n",
       "      <td>0</td>\n",
       "      <td>1</td>\n",
       "      <td>0</td>\n",
       "      <td>1</td>\n",
       "      <td>0</td>\n",
       "      <td>0</td>\n",
       "      <td>1</td>\n",
       "      <td>0</td>\n",
       "    </tr>\n",
       "    <tr>\n",
       "      <th>3</th>\n",
       "      <td>895</td>\n",
       "      <td>3</td>\n",
       "      <td>Wirz, Mr. Albert</td>\n",
       "      <td>male</td>\n",
       "      <td>27.0</td>\n",
       "      <td>0</td>\n",
       "      <td>0</td>\n",
       "      <td>315154</td>\n",
       "      <td>8.6625</td>\n",
       "      <td>NaN</td>\n",
       "      <td>S</td>\n",
       "      <td>0</td>\n",
       "      <td>1</td>\n",
       "      <td>0</td>\n",
       "      <td>0</td>\n",
       "      <td>1</td>\n",
       "      <td>0</td>\n",
       "      <td>0</td>\n",
       "      <td>1</td>\n",
       "    </tr>\n",
       "    <tr>\n",
       "      <th>4</th>\n",
       "      <td>896</td>\n",
       "      <td>3</td>\n",
       "      <td>Hirvonen, Mrs. Alexander (Helga E Lindqvist)</td>\n",
       "      <td>female</td>\n",
       "      <td>22.0</td>\n",
       "      <td>1</td>\n",
       "      <td>1</td>\n",
       "      <td>3101298</td>\n",
       "      <td>12.2875</td>\n",
       "      <td>NaN</td>\n",
       "      <td>S</td>\n",
       "      <td>2</td>\n",
       "      <td>0</td>\n",
       "      <td>0</td>\n",
       "      <td>0</td>\n",
       "      <td>1</td>\n",
       "      <td>0</td>\n",
       "      <td>0</td>\n",
       "      <td>1</td>\n",
       "    </tr>\n",
       "  </tbody>\n",
       "</table>\n",
       "</div>"
      ],
      "text/plain": [
       "   PassengerId  Pclass                                          Name     Sex  \\\n",
       "0          892       3                              Kelly, Mr. James    male   \n",
       "1          893       3              Wilkes, Mrs. James (Ellen Needs)  female   \n",
       "2          894       2                     Myles, Mr. Thomas Francis    male   \n",
       "3          895       3                              Wirz, Mr. Albert    male   \n",
       "4          896       3  Hirvonen, Mrs. Alexander (Helga E Lindqvist)  female   \n",
       "\n",
       "    Age  SibSp  Parch   Ticket     Fare Cabin Embarked  Relatives  Gender  \\\n",
       "0  34.5      0      0   330911   7.8292   NaN        Q          0       1   \n",
       "1  47.0      1      0   363272   7.0000   NaN        S          1       0   \n",
       "2  62.0      0      0   240276   9.6875   NaN        Q          0       1   \n",
       "3  27.0      0      0   315154   8.6625   NaN        S          0       1   \n",
       "4  22.0      1      1  3101298  12.2875   NaN        S          2       0   \n",
       "\n",
       "   pclass_1  pclass_2  pclass_3  Embarked_C  Embarked_Q  Embarked_S  \n",
       "0         0         0         1           0           1           0  \n",
       "1         0         0         1           0           0           1  \n",
       "2         0         1         0           0           1           0  \n",
       "3         0         0         1           0           0           1  \n",
       "4         0         0         1           0           0           1  "
      ]
     },
     "execution_count": 14,
     "metadata": {},
     "output_type": "execute_result"
    }
   ],
   "source": [
    "test_embarked = pd.get_dummies(test['Embarked'],prefix = 'Embarked')\n",
    "test1 = pd.concat([test1,test_embarked],axis = 1)\n",
    "test1.head()"
   ]
  },
  {
   "cell_type": "markdown",
   "metadata": {},
   "source": [
    "I'm going to delete PassengerId, Name, Ticket, and cabin info."
   ]
  },
  {
   "cell_type": "code",
   "execution_count": 15,
   "metadata": {
    "collapsed": true
   },
   "outputs": [],
   "source": [
    "train2 = train1[['Survived','pclass_1','pclass_2','pclass_3','Age','SibSp','Parch','Relatives','Fare','Gender','Embarked_C','Embarked_Q','Embarked_S']]"
   ]
  },
  {
   "cell_type": "code",
   "execution_count": 16,
   "metadata": {
    "collapsed": true
   },
   "outputs": [],
   "source": [
    "test2 = test1[['pclass_1','pclass_2','pclass_3','Age','SibSp','Parch','Relatives','Fare','Gender','Embarked_C','Embarked_Q','Embarked_S']]"
   ]
  },
  {
   "cell_type": "code",
   "execution_count": 17,
   "metadata": {
    "collapsed": false
   },
   "outputs": [
    {
     "name": "stdout",
     "output_type": "stream",
     "text": [
      "<class 'pandas.core.frame.DataFrame'>\n",
      "RangeIndex: 891 entries, 0 to 890\n",
      "Data columns (total 13 columns):\n",
      "Survived      891 non-null int64\n",
      "pclass_1      891 non-null uint8\n",
      "pclass_2      891 non-null uint8\n",
      "pclass_3      891 non-null uint8\n",
      "Age           714 non-null float64\n",
      "SibSp         891 non-null int64\n",
      "Parch         891 non-null int64\n",
      "Relatives     891 non-null int64\n",
      "Fare          891 non-null float64\n",
      "Gender        891 non-null int32\n",
      "Embarked_C    891 non-null uint8\n",
      "Embarked_Q    891 non-null uint8\n",
      "Embarked_S    891 non-null uint8\n",
      "dtypes: float64(2), int32(1), int64(4), uint8(6)\n",
      "memory usage: 50.5 KB\n"
     ]
    }
   ],
   "source": [
    "train2.info()\n",
    "# Let's see what kind of data we are missing now."
   ]
  },
  {
   "cell_type": "code",
   "execution_count": 18,
   "metadata": {
    "collapsed": false
   },
   "outputs": [
    {
     "name": "stdout",
     "output_type": "stream",
     "text": [
      "<class 'pandas.core.frame.DataFrame'>\n",
      "RangeIndex: 418 entries, 0 to 417\n",
      "Data columns (total 12 columns):\n",
      "pclass_1      418 non-null uint8\n",
      "pclass_2      418 non-null uint8\n",
      "pclass_3      418 non-null uint8\n",
      "Age           332 non-null float64\n",
      "SibSp         418 non-null int64\n",
      "Parch         418 non-null int64\n",
      "Relatives     418 non-null int64\n",
      "Fare          417 non-null float64\n",
      "Gender        418 non-null int32\n",
      "Embarked_C    418 non-null uint8\n",
      "Embarked_Q    418 non-null uint8\n",
      "Embarked_S    418 non-null uint8\n",
      "dtypes: float64(2), int32(1), int64(3), uint8(6)\n",
      "memory usage: 20.5 KB\n"
     ]
    }
   ],
   "source": [
    "test2.info()"
   ]
  },
  {
   "cell_type": "markdown",
   "metadata": {},
   "source": [
    "Fill Fare NA for test data set."
   ]
  },
  {
   "cell_type": "code",
   "execution_count": 19,
   "metadata": {
    "collapsed": false
   },
   "outputs": [
    {
     "data": {
      "text/html": [
       "<div>\n",
       "<table border=\"1\" class=\"dataframe\">\n",
       "  <thead>\n",
       "    <tr style=\"text-align: right;\">\n",
       "      <th></th>\n",
       "      <th>pclass_1</th>\n",
       "      <th>pclass_2</th>\n",
       "      <th>pclass_3</th>\n",
       "      <th>Age</th>\n",
       "      <th>SibSp</th>\n",
       "      <th>Parch</th>\n",
       "      <th>Relatives</th>\n",
       "      <th>Fare</th>\n",
       "      <th>Gender</th>\n",
       "      <th>Embarked_C</th>\n",
       "      <th>Embarked_Q</th>\n",
       "      <th>Embarked_S</th>\n",
       "    </tr>\n",
       "  </thead>\n",
       "  <tbody>\n",
       "    <tr>\n",
       "      <th>152</th>\n",
       "      <td>0</td>\n",
       "      <td>0</td>\n",
       "      <td>1</td>\n",
       "      <td>60.5</td>\n",
       "      <td>0</td>\n",
       "      <td>0</td>\n",
       "      <td>0</td>\n",
       "      <td>NaN</td>\n",
       "      <td>1</td>\n",
       "      <td>0</td>\n",
       "      <td>0</td>\n",
       "      <td>1</td>\n",
       "    </tr>\n",
       "  </tbody>\n",
       "</table>\n",
       "</div>"
      ],
      "text/plain": [
       "     pclass_1  pclass_2  pclass_3   Age  SibSp  Parch  Relatives  Fare  \\\n",
       "152         0         0         1  60.5      0      0          0   NaN   \n",
       "\n",
       "     Gender  Embarked_C  Embarked_Q  Embarked_S  \n",
       "152       1           0           0           1  "
      ]
     },
     "execution_count": 19,
     "metadata": {},
     "output_type": "execute_result"
    }
   ],
   "source": [
    "test2[test2['Fare'].isnull()]"
   ]
  },
  {
   "cell_type": "code",
   "execution_count": 20,
   "metadata": {
    "collapsed": false
   },
   "outputs": [
    {
     "data": {
      "text/plain": [
       "8.05"
      ]
     },
     "execution_count": 20,
     "metadata": {},
     "output_type": "execute_result"
    }
   ],
   "source": [
    "test2[(test2['Embarked_S']==1.0)&(test2['pclass_3']==1.0)].Fare.median()"
   ]
  },
  {
   "cell_type": "code",
   "execution_count": 21,
   "metadata": {
    "collapsed": false
   },
   "outputs": [
    {
     "name": "stderr",
     "output_type": "stream",
     "text": [
      "C:\\Users\\Ruofei\\Anaconda2\\lib\\site-packages\\ipykernel\\__main__.py:1: SettingWithCopyWarning: \n",
      "A value is trying to be set on a copy of a slice from a DataFrame.\n",
      "Try using .loc[row_indexer,col_indexer] = value instead\n",
      "\n",
      "See the caveats in the documentation: http://pandas.pydata.org/pandas-docs/stable/indexing.html#indexing-view-versus-copy\n",
      "  if __name__ == '__main__':\n"
     ]
    }
   ],
   "source": [
    "test2['Fare'] = test['Fare'].fillna(8.05)"
   ]
  },
  {
   "cell_type": "code",
   "execution_count": 22,
   "metadata": {
    "collapsed": false
   },
   "outputs": [
    {
     "name": "stdout",
     "output_type": "stream",
     "text": [
      "<class 'pandas.core.frame.DataFrame'>\n",
      "RangeIndex: 418 entries, 0 to 417\n",
      "Data columns (total 12 columns):\n",
      "pclass_1      418 non-null uint8\n",
      "pclass_2      418 non-null uint8\n",
      "pclass_3      418 non-null uint8\n",
      "Age           332 non-null float64\n",
      "SibSp         418 non-null int64\n",
      "Parch         418 non-null int64\n",
      "Relatives     418 non-null int64\n",
      "Fare          418 non-null float64\n",
      "Gender        418 non-null int32\n",
      "Embarked_C    418 non-null uint8\n",
      "Embarked_Q    418 non-null uint8\n",
      "Embarked_S    418 non-null uint8\n",
      "dtypes: float64(2), int32(1), int64(3), uint8(6)\n",
      "memory usage: 20.5 KB\n"
     ]
    }
   ],
   "source": [
    "test2.info()"
   ]
  },
  {
   "cell_type": "markdown",
   "metadata": {},
   "source": [
    "Now, we still have missing ages. I'm going to use random forest to predict the missing values because the distribution of ages is not normal. I don't want to just delete this missing value records, they are all meaningful based on other columns. \n"
   ]
  },
  {
   "cell_type": "code",
   "execution_count": 23,
   "metadata": {
    "collapsed": true
   },
   "outputs": [],
   "source": [
    "from sklearn.ensemble import RandomForestRegressor\n",
    "#predicting missing values in age using Random Forest\n",
    "def fill_missing_age(df):\n",
    "    \n",
    "    #Feature set\n",
    "    age_df = df[['Age','pclass_1','pclass_2','pclass_3','SibSp','Parch',\n",
    "                 'Relatives','Fare','Gender','Embarked_C','Embarked_Q','Embarked_S']]\n",
    "    # Split sets into train and test\n",
    "    train  = age_df.loc[ (df.Age.notnull()) ]# known Age values\n",
    "    test = age_df.loc[ (df.Age.isnull()) ]# null Ages\n",
    "    \n",
    "    # All age values are stored in a target array\n",
    "    y = train.values[:, 0]\n",
    "    \n",
    "    # All the other values are stored in the feature array\n",
    "    X = train.values[:, 1::]\n",
    "    \n",
    "    # Create and fit a model\n",
    "    rtr = RandomForestRegressor(n_estimators=2000, n_jobs=-1)\n",
    "    rtr.fit(X, y)\n",
    "    \n",
    "    # Use the fitted model to predict the missing values\n",
    "    predictedAges = rtr.predict(test.values[:, 1::])\n",
    "    \n",
    "    # Assign those predictions to the full data set\n",
    "    df.loc[ (df.Age.isnull()), 'Age' ] = predictedAges \n",
    "    \n",
    "    return df"
   ]
  },
  {
   "cell_type": "code",
   "execution_count": 24,
   "metadata": {
    "collapsed": false
   },
   "outputs": [
    {
     "name": "stderr",
     "output_type": "stream",
     "text": [
      "C:\\Users\\Ruofei\\Anaconda2\\lib\\site-packages\\pandas\\core\\indexing.py:477: SettingWithCopyWarning: \n",
      "A value is trying to be set on a copy of a slice from a DataFrame.\n",
      "Try using .loc[row_indexer,col_indexer] = value instead\n",
      "\n",
      "See the caveats in the documentation: http://pandas.pydata.org/pandas-docs/stable/indexing.html#indexing-view-versus-copy\n",
      "  self.obj[item] = s\n"
     ]
    }
   ],
   "source": [
    "train3=fill_missing_age(train2)"
   ]
  },
  {
   "cell_type": "code",
   "execution_count": 25,
   "metadata": {
    "collapsed": false
   },
   "outputs": [],
   "source": [
    "test3=fill_missing_age(test2)"
   ]
  },
  {
   "cell_type": "code",
   "execution_count": 26,
   "metadata": {
    "collapsed": false
   },
   "outputs": [
    {
     "name": "stdout",
     "output_type": "stream",
     "text": [
      "<class 'pandas.core.frame.DataFrame'>\n",
      "RangeIndex: 891 entries, 0 to 890\n",
      "Data columns (total 13 columns):\n",
      "Survived      891 non-null int64\n",
      "pclass_1      891 non-null uint8\n",
      "pclass_2      891 non-null uint8\n",
      "pclass_3      891 non-null uint8\n",
      "Age           891 non-null float64\n",
      "SibSp         891 non-null int64\n",
      "Parch         891 non-null int64\n",
      "Relatives     891 non-null int64\n",
      "Fare          891 non-null float64\n",
      "Gender        891 non-null int32\n",
      "Embarked_C    891 non-null uint8\n",
      "Embarked_Q    891 non-null uint8\n",
      "Embarked_S    891 non-null uint8\n",
      "dtypes: float64(2), int32(1), int64(4), uint8(6)\n",
      "memory usage: 50.5 KB\n"
     ]
    }
   ],
   "source": [
    "train3.info()"
   ]
  },
  {
   "cell_type": "code",
   "execution_count": 27,
   "metadata": {
    "collapsed": false
   },
   "outputs": [
    {
     "name": "stdout",
     "output_type": "stream",
     "text": [
      "<class 'pandas.core.frame.DataFrame'>\n",
      "RangeIndex: 418 entries, 0 to 417\n",
      "Data columns (total 12 columns):\n",
      "pclass_1      418 non-null uint8\n",
      "pclass_2      418 non-null uint8\n",
      "pclass_3      418 non-null uint8\n",
      "Age           418 non-null float64\n",
      "SibSp         418 non-null int64\n",
      "Parch         418 non-null int64\n",
      "Relatives     418 non-null int64\n",
      "Fare          418 non-null float64\n",
      "Gender        418 non-null int32\n",
      "Embarked_C    418 non-null uint8\n",
      "Embarked_Q    418 non-null uint8\n",
      "Embarked_S    418 non-null uint8\n",
      "dtypes: float64(2), int32(1), int64(3), uint8(6)\n",
      "memory usage: 20.5 KB\n"
     ]
    }
   ],
   "source": [
    "test3.info()"
   ]
  },
  {
   "cell_type": "markdown",
   "metadata": {},
   "source": [
    "### Feature Scaling"
   ]
  },
  {
   "cell_type": "markdown",
   "metadata": {},
   "source": [
    "We need scale relatives, age and fare since they are measured on different scales."
   ]
  },
  {
   "cell_type": "code",
   "execution_count": 27,
   "metadata": {
    "collapsed": false
   },
   "outputs": [
    {
     "name": "stderr",
     "output_type": "stream",
     "text": [
      "C:\\Users\\Ruofei\\Anaconda3\\lib\\site-packages\\ipykernel\\__main__.py:4: SettingWithCopyWarning: \n",
      "A value is trying to be set on a copy of a slice from a DataFrame.\n",
      "Try using .loc[row_indexer,col_indexer] = value instead\n",
      "\n",
      "See the caveats in the documentation: http://pandas.pydata.org/pandas-docs/stable/indexing.html#indexing-view-versus-copy\n",
      "C:\\Users\\Ruofei\\Anaconda3\\lib\\site-packages\\pandas\\core\\indexing.py:465: SettingWithCopyWarning: \n",
      "A value is trying to be set on a copy of a slice from a DataFrame.\n",
      "Try using .loc[row_indexer,col_indexer] = value instead\n",
      "\n",
      "See the caveats in the documentation: http://pandas.pydata.org/pandas-docs/stable/indexing.html#indexing-view-versus-copy\n",
      "  self.obj[item] = s\n",
      "C:\\Users\\Ruofei\\Anaconda3\\lib\\site-packages\\ipykernel\\__main__.py:8: SettingWithCopyWarning: \n",
      "A value is trying to be set on a copy of a slice from a DataFrame.\n",
      "Try using .loc[row_indexer,col_indexer] = value instead\n",
      "\n",
      "See the caveats in the documentation: http://pandas.pydata.org/pandas-docs/stable/indexing.html#indexing-view-versus-copy\n"
     ]
    }
   ],
   "source": [
    "from sklearn import preprocessing\n",
    "\n",
    "std_scale = preprocessing.StandardScaler().fit(train3[['Age', 'Fare']])\n",
    "train3[['Age', 'Fare']] = std_scale.transform(train3[['Age', 'Fare']])\n",
    "\n",
    "\n",
    "std_scale = preprocessing.StandardScaler().fit(test3[['Age', 'Fare']])\n",
    "test3[['Age', 'Fare']] = std_scale.transform(test3[['Age', 'Fare']])"
   ]
  },
  {
   "cell_type": "code",
   "execution_count": 28,
   "metadata": {
    "collapsed": true
   },
   "outputs": [],
   "source": [
    "def Standardize(X):\n",
    "    X_Max = X.max()\n",
    "    X_Min = X.min()\n",
    "    X_Standardized = (X - X_Min)/(X_Max - X_Min)\n",
    "    return X_Standardized"
   ]
  },
  {
   "cell_type": "code",
   "execution_count": 29,
   "metadata": {
    "collapsed": false
   },
   "outputs": [
    {
     "name": "stderr",
     "output_type": "stream",
     "text": [
      "C:\\Users\\Ruofei\\Anaconda2\\lib\\site-packages\\ipykernel\\__main__.py:2: SettingWithCopyWarning: \n",
      "A value is trying to be set on a copy of a slice from a DataFrame.\n",
      "Try using .loc[row_indexer,col_indexer] = value instead\n",
      "\n",
      "See the caveats in the documentation: http://pandas.pydata.org/pandas-docs/stable/indexing.html#indexing-view-versus-copy\n",
      "  from ipykernel import kernelapp as app\n",
      "C:\\Users\\Ruofei\\Anaconda2\\lib\\site-packages\\ipykernel\\__main__.py:3: SettingWithCopyWarning: \n",
      "A value is trying to be set on a copy of a slice from a DataFrame.\n",
      "Try using .loc[row_indexer,col_indexer] = value instead\n",
      "\n",
      "See the caveats in the documentation: http://pandas.pydata.org/pandas-docs/stable/indexing.html#indexing-view-versus-copy\n",
      "  app.launch_new_instance()\n"
     ]
    }
   ],
   "source": [
    "for i in ['Age','Fare','SibSp','Parch','Relatives']:\n",
    "    train3[i]=Standardize(train3[i])\n",
    "    test3[i]=Standardize(test3[i])\n"
   ]
  },
  {
   "cell_type": "code",
   "execution_count": 30,
   "metadata": {
    "collapsed": false
   },
   "outputs": [
    {
     "data": {
      "text/html": [
       "<div>\n",
       "<table border=\"1\" class=\"dataframe\">\n",
       "  <thead>\n",
       "    <tr style=\"text-align: right;\">\n",
       "      <th></th>\n",
       "      <th>Survived</th>\n",
       "      <th>pclass_1</th>\n",
       "      <th>pclass_2</th>\n",
       "      <th>pclass_3</th>\n",
       "      <th>Age</th>\n",
       "      <th>SibSp</th>\n",
       "      <th>Parch</th>\n",
       "      <th>Relatives</th>\n",
       "      <th>Fare</th>\n",
       "      <th>Gender</th>\n",
       "      <th>Embarked_C</th>\n",
       "      <th>Embarked_Q</th>\n",
       "      <th>Embarked_S</th>\n",
       "    </tr>\n",
       "  </thead>\n",
       "  <tbody>\n",
       "    <tr>\n",
       "      <th>count</th>\n",
       "      <td>891.000000</td>\n",
       "      <td>891.000000</td>\n",
       "      <td>891.000000</td>\n",
       "      <td>891.000000</td>\n",
       "      <td>891.000000</td>\n",
       "      <td>891.000000</td>\n",
       "      <td>891.000000</td>\n",
       "      <td>891.000000</td>\n",
       "      <td>891.000000</td>\n",
       "      <td>891.000000</td>\n",
       "      <td>891.000000</td>\n",
       "      <td>891.000000</td>\n",
       "      <td>891.000000</td>\n",
       "    </tr>\n",
       "    <tr>\n",
       "      <th>mean</th>\n",
       "      <td>0.383838</td>\n",
       "      <td>0.242424</td>\n",
       "      <td>0.206510</td>\n",
       "      <td>0.551066</td>\n",
       "      <td>0.366357</td>\n",
       "      <td>0.065376</td>\n",
       "      <td>0.063599</td>\n",
       "      <td>0.090460</td>\n",
       "      <td>0.062858</td>\n",
       "      <td>0.647587</td>\n",
       "      <td>0.190797</td>\n",
       "      <td>0.086420</td>\n",
       "      <td>0.722783</td>\n",
       "    </tr>\n",
       "    <tr>\n",
       "      <th>std</th>\n",
       "      <td>0.486592</td>\n",
       "      <td>0.428790</td>\n",
       "      <td>0.405028</td>\n",
       "      <td>0.497665</td>\n",
       "      <td>0.172483</td>\n",
       "      <td>0.137843</td>\n",
       "      <td>0.134343</td>\n",
       "      <td>0.161346</td>\n",
       "      <td>0.096995</td>\n",
       "      <td>0.477989</td>\n",
       "      <td>0.393150</td>\n",
       "      <td>0.281141</td>\n",
       "      <td>0.447876</td>\n",
       "    </tr>\n",
       "    <tr>\n",
       "      <th>min</th>\n",
       "      <td>0.000000</td>\n",
       "      <td>0.000000</td>\n",
       "      <td>0.000000</td>\n",
       "      <td>0.000000</td>\n",
       "      <td>0.000000</td>\n",
       "      <td>0.000000</td>\n",
       "      <td>0.000000</td>\n",
       "      <td>0.000000</td>\n",
       "      <td>0.000000</td>\n",
       "      <td>0.000000</td>\n",
       "      <td>0.000000</td>\n",
       "      <td>0.000000</td>\n",
       "      <td>0.000000</td>\n",
       "    </tr>\n",
       "    <tr>\n",
       "      <th>25%</th>\n",
       "      <td>0.000000</td>\n",
       "      <td>0.000000</td>\n",
       "      <td>0.000000</td>\n",
       "      <td>0.000000</td>\n",
       "      <td>0.258608</td>\n",
       "      <td>0.000000</td>\n",
       "      <td>0.000000</td>\n",
       "      <td>0.000000</td>\n",
       "      <td>0.015440</td>\n",
       "      <td>0.000000</td>\n",
       "      <td>0.000000</td>\n",
       "      <td>0.000000</td>\n",
       "      <td>0.000000</td>\n",
       "    </tr>\n",
       "    <tr>\n",
       "      <th>50%</th>\n",
       "      <td>0.000000</td>\n",
       "      <td>0.000000</td>\n",
       "      <td>0.000000</td>\n",
       "      <td>1.000000</td>\n",
       "      <td>0.346569</td>\n",
       "      <td>0.000000</td>\n",
       "      <td>0.000000</td>\n",
       "      <td>0.000000</td>\n",
       "      <td>0.028213</td>\n",
       "      <td>1.000000</td>\n",
       "      <td>0.000000</td>\n",
       "      <td>0.000000</td>\n",
       "      <td>1.000000</td>\n",
       "    </tr>\n",
       "    <tr>\n",
       "      <th>75%</th>\n",
       "      <td>1.000000</td>\n",
       "      <td>0.000000</td>\n",
       "      <td>0.000000</td>\n",
       "      <td>1.000000</td>\n",
       "      <td>0.459663</td>\n",
       "      <td>0.125000</td>\n",
       "      <td>0.000000</td>\n",
       "      <td>0.100000</td>\n",
       "      <td>0.060508</td>\n",
       "      <td>1.000000</td>\n",
       "      <td>0.000000</td>\n",
       "      <td>0.000000</td>\n",
       "      <td>1.000000</td>\n",
       "    </tr>\n",
       "    <tr>\n",
       "      <th>max</th>\n",
       "      <td>1.000000</td>\n",
       "      <td>1.000000</td>\n",
       "      <td>1.000000</td>\n",
       "      <td>1.000000</td>\n",
       "      <td>1.000000</td>\n",
       "      <td>1.000000</td>\n",
       "      <td>1.000000</td>\n",
       "      <td>1.000000</td>\n",
       "      <td>1.000000</td>\n",
       "      <td>1.000000</td>\n",
       "      <td>1.000000</td>\n",
       "      <td>1.000000</td>\n",
       "      <td>1.000000</td>\n",
       "    </tr>\n",
       "  </tbody>\n",
       "</table>\n",
       "</div>"
      ],
      "text/plain": [
       "         Survived    pclass_1    pclass_2    pclass_3         Age       SibSp  \\\n",
       "count  891.000000  891.000000  891.000000  891.000000  891.000000  891.000000   \n",
       "mean     0.383838    0.242424    0.206510    0.551066    0.366357    0.065376   \n",
       "std      0.486592    0.428790    0.405028    0.497665    0.172483    0.137843   \n",
       "min      0.000000    0.000000    0.000000    0.000000    0.000000    0.000000   \n",
       "25%      0.000000    0.000000    0.000000    0.000000    0.258608    0.000000   \n",
       "50%      0.000000    0.000000    0.000000    1.000000    0.346569    0.000000   \n",
       "75%      1.000000    0.000000    0.000000    1.000000    0.459663    0.125000   \n",
       "max      1.000000    1.000000    1.000000    1.000000    1.000000    1.000000   \n",
       "\n",
       "            Parch   Relatives        Fare      Gender  Embarked_C  Embarked_Q  \\\n",
       "count  891.000000  891.000000  891.000000  891.000000  891.000000  891.000000   \n",
       "mean     0.063599    0.090460    0.062858    0.647587    0.190797    0.086420   \n",
       "std      0.134343    0.161346    0.096995    0.477989    0.393150    0.281141   \n",
       "min      0.000000    0.000000    0.000000    0.000000    0.000000    0.000000   \n",
       "25%      0.000000    0.000000    0.015440    0.000000    0.000000    0.000000   \n",
       "50%      0.000000    0.000000    0.028213    1.000000    0.000000    0.000000   \n",
       "75%      0.000000    0.100000    0.060508    1.000000    0.000000    0.000000   \n",
       "max      1.000000    1.000000    1.000000    1.000000    1.000000    1.000000   \n",
       "\n",
       "       Embarked_S  \n",
       "count  891.000000  \n",
       "mean     0.722783  \n",
       "std      0.447876  \n",
       "min      0.000000  \n",
       "25%      0.000000  \n",
       "50%      1.000000  \n",
       "75%      1.000000  \n",
       "max      1.000000  "
      ]
     },
     "execution_count": 30,
     "metadata": {},
     "output_type": "execute_result"
    }
   ],
   "source": [
    "train3.describe()"
   ]
  },
  {
   "cell_type": "code",
   "execution_count": null,
   "metadata": {
    "collapsed": true
   },
   "outputs": [],
   "source": []
  },
  {
   "cell_type": "markdown",
   "metadata": {},
   "source": [
    "### Classfication"
   ]
  },
  {
   "cell_type": "markdown",
   "metadata": {},
   "source": [
    "After cleaning the data, I'm going to use different kinds of classification models to predict survived or not."
   ]
  },
  {
   "cell_type": "code",
   "execution_count": 31,
   "metadata": {
    "collapsed": true
   },
   "outputs": [],
   "source": [
    "X = train3[['pclass_1','pclass_2','pclass_3','Age','SibSp','Parch','Relatives','Fare','Gender','Embarked_C','Embarked_Q','Embarked_S']]\n",
    "y = train3['Survived']\n",
    "x = test3[['pclass_1','pclass_2','pclass_3','Age','SibSp','Parch','Relatives','Fare','Gender','Embarked_C','Embarked_Q','Embarked_S']]"
   ]
  },
  {
   "cell_type": "code",
   "execution_count": 32,
   "metadata": {
    "collapsed": false
   },
   "outputs": [
    {
     "name": "stderr",
     "output_type": "stream",
     "text": [
      "C:\\Users\\Ruofei\\Anaconda2\\lib\\site-packages\\sklearn\\cross_validation.py:44: DeprecationWarning: This module was deprecated in version 0.18 in favor of the model_selection module into which all the refactored classes and functions are moved. Also note that the interface of the new CV iterators are different from that of this module. This module will be removed in 0.20.\n",
      "  \"This module will be removed in 0.20.\", DeprecationWarning)\n"
     ]
    }
   ],
   "source": [
    "from sklearn.cross_validation import train_test_split\n",
    "features_train, features_test, labels_train, labels_test = train_test_split(X, y, test_size = 0.3)"
   ]
  },
  {
   "cell_type": "markdown",
   "metadata": {},
   "source": [
    "#### Decision Tree"
   ]
  },
  {
   "cell_type": "code",
   "execution_count": 32,
   "metadata": {
    "collapsed": false
   },
   "outputs": [
    {
     "name": "stderr",
     "output_type": "stream",
     "text": [
      "C:\\Users\\rwang\\AppData\\Local\\Continuum\\Miniconda2\\lib\\site-packages\\sklearn\\grid_search.py:42: DeprecationWarning: This module was deprecated in version 0.18 in favor of the model_selection module into which all the refactored classes and functions are moved. This module will be removed in 0.20.\n",
      "  DeprecationWarning)\n"
     ]
    }
   ],
   "source": [
    "from sklearn.tree import DecisionTreeClassifier\n",
    "\n",
    "from sklearn.grid_search import GridSearchCV\n",
    "from sklearn.cross_validation import cross_val_score"
   ]
  },
  {
   "cell_type": "code",
   "execution_count": 38,
   "metadata": {
    "collapsed": false
   },
   "outputs": [
    {
     "data": {
      "image/png": "[encoded data removed]",
      "text/plain": [
       "<matplotlib.figure.Figure at 0xcaec940>"
      ]
     },
     "metadata": {},
     "output_type": "display_data"
    }
   ],
   "source": [
    "Maximum_Terminal_Nodes = range(2,50)\n",
    "score = []\n",
    "for i in Maximum_Terminal_Nodes :\n",
    "        tree = DecisionTreeClassifier(max_leaf_nodes = i, \n",
    "                                        min_samples_leaf = 5, \n",
    "                                        random_state = 24)  #You could set random_state to any number\n",
    "        score.append(-cross_val_score(tree, X, y, cv=10, scoring = 'neg_mean_squared_error').mean())\n",
    "\n",
    "plt.plot(Maximum_Terminal_Nodes, score)\n",
    "plt.xlabel(\"Number of Terminal Nodes\")\n",
    "plt.ylabel(\"CV MSE\")\n",
    "plt.show()"
   ]
  },
  {
   "cell_type": "code",
   "execution_count": 39,
   "metadata": {
    "collapsed": false
   },
   "outputs": [
    {
     "data": {
      "image/png": "[encoded data removed]",
      "text/plain": [
       "<matplotlib.figure.Figure at 0x8a6e240>"
      ]
     },
     "metadata": {},
     "output_type": "display_data"
    }
   ],
   "source": [
    "Maximum_Depth = range(1,50)\n",
    "score = []\n",
    "for i in Maximum_Depth:\n",
    "        tree = DecisionTreeClassifier(max_depth= i, \n",
    "                                        min_samples_leaf = 5, \n",
    "                                        random_state = 24)  #You could set random_state to any number\n",
    "        score.append(-cross_val_score(tree, X, y, cv=10, scoring = 'neg_mean_squared_error').mean())\n",
    "\n",
    "plt.plot(Maximum_Depth, score)\n",
    "plt.xlabel(\"Depth\")\n",
    "plt.ylabel(\"CV MSE\")\n",
    "plt.show()"
   ]
  },
  {
   "cell_type": "code",
   "execution_count": 33,
   "metadata": {
    "collapsed": false
   },
   "outputs": [
    {
     "name": "stdout",
     "output_type": "stream",
     "text": [
      "Accuracy score: 0.794776119403\n",
      "Precision: 0.723404255319\n",
      "Recall: 0.701030927835\n"
     ]
    }
   ],
   "source": [
    "\n",
    "dec = DecisionTreeClassifier()\n",
    "parameters = {'criterion': ['gini', 'entropy'],\n",
    "               'min_samples_split': [2, 5, 10, 20],\n",
    "              'max_depth': [2, 3,4,5,6,7,8],\n",
    "              'min_samples_leaf': [1, 5, 10],\n",
    "              'max_leaf_nodes': [6,7,8,9]}\n",
    "\n",
    "grid_search_dec = GridSearchCV(dec, parameters,scoring = 'accuracy')\n",
    "\n",
    "\n",
    "grid_search_dec.fit(features_train, labels_train)\n",
    "\n",
    "print \"Accuracy score:\", grid_search_dec.score(features_test,labels_test)\n",
    "\n",
    "from sklearn.metrics import recall_score,precision_score\n",
    "pred = grid_search_dec.predict(features_test)\n",
    "recall = recall_score(labels_test,pred)\n",
    "precision = precision_score(labels_test,pred)\n",
    "\n",
    "print \"Precision:\", precision\n",
    "print \"Recall:\", recall"
   ]
  },
  {
   "cell_type": "code",
   "execution_count": 60,
   "metadata": {
    "collapsed": false
   },
   "outputs": [
    {
     "data": {
      "text/plain": [
       "DecisionTreeClassifier(class_weight=None, criterion='entropy', max_depth=3,\n",
       "            max_features=None, max_leaf_nodes=7, min_impurity_decrease=0.0,\n",
       "            min_impurity_split=None, min_samples_leaf=1,\n",
       "            min_samples_split=2, min_weight_fraction_leaf=0.0,\n",
       "            presort=False, random_state=None, splitter='best')"
      ]
     },
     "execution_count": 60,
     "metadata": {},
     "output_type": "execute_result"
    }
   ],
   "source": [
    "dec = DecisionTreeClassifier(**grid_search_dec.best_params_)\n",
    "dec.fit(X,y)"
   ]
  },
  {
   "cell_type": "code",
   "execution_count": 109,
   "metadata": {
    "collapsed": false
   },
   "outputs": [
    {
     "data": {
      "text/html": [
       "<div>\n",
       "<style>\n",
       "    .dataframe thead tr:only-child th {\n",
       "        text-align: right;\n",
       "    }\n",
       "\n",
       "    .dataframe thead th {\n",
       "        text-align: left;\n",
       "    }\n",
       "\n",
       "    .dataframe tbody tr th {\n",
       "        vertical-align: top;\n",
       "    }\n",
       "</style>\n",
       "<table border=\"1\" class=\"dataframe\">\n",
       "  <thead>\n",
       "    <tr style=\"text-align: right;\">\n",
       "      <th></th>\n",
       "      <th>Feature</th>\n",
       "      <th>Importance</th>\n",
       "    </tr>\n",
       "  </thead>\n",
       "  <tbody>\n",
       "    <tr>\n",
       "      <th>8</th>\n",
       "      <td>Gender</td>\n",
       "      <td>0.573151</td>\n",
       "    </tr>\n",
       "    <tr>\n",
       "      <th>2</th>\n",
       "      <td>pclass_3</td>\n",
       "      <td>0.188666</td>\n",
       "    </tr>\n",
       "    <tr>\n",
       "      <th>3</th>\n",
       "      <td>Age</td>\n",
       "      <td>0.087900</td>\n",
       "    </tr>\n",
       "    <tr>\n",
       "      <th>6</th>\n",
       "      <td>Relatives</td>\n",
       "      <td>0.084644</td>\n",
       "    </tr>\n",
       "    <tr>\n",
       "      <th>7</th>\n",
       "      <td>Fare</td>\n",
       "      <td>0.065639</td>\n",
       "    </tr>\n",
       "    <tr>\n",
       "      <th>0</th>\n",
       "      <td>pclass_1</td>\n",
       "      <td>0.000000</td>\n",
       "    </tr>\n",
       "    <tr>\n",
       "      <th>1</th>\n",
       "      <td>pclass_2</td>\n",
       "      <td>0.000000</td>\n",
       "    </tr>\n",
       "    <tr>\n",
       "      <th>4</th>\n",
       "      <td>SibSp</td>\n",
       "      <td>0.000000</td>\n",
       "    </tr>\n",
       "    <tr>\n",
       "      <th>5</th>\n",
       "      <td>Parch</td>\n",
       "      <td>0.000000</td>\n",
       "    </tr>\n",
       "    <tr>\n",
       "      <th>9</th>\n",
       "      <td>Embarked_C</td>\n",
       "      <td>0.000000</td>\n",
       "    </tr>\n",
       "    <tr>\n",
       "      <th>10</th>\n",
       "      <td>Embarked_Q</td>\n",
       "      <td>0.000000</td>\n",
       "    </tr>\n",
       "    <tr>\n",
       "      <th>11</th>\n",
       "      <td>Embarked_S</td>\n",
       "      <td>0.000000</td>\n",
       "    </tr>\n",
       "  </tbody>\n",
       "</table>\n",
       "</div>"
      ],
      "text/plain": [
       "       Feature  Importance\n",
       "8       Gender    0.573151\n",
       "2     pclass_3    0.188666\n",
       "3          Age    0.087900\n",
       "6    Relatives    0.084644\n",
       "7         Fare    0.065639\n",
       "0     pclass_1    0.000000\n",
       "1     pclass_2    0.000000\n",
       "4        SibSp    0.000000\n",
       "5        Parch    0.000000\n",
       "9   Embarked_C    0.000000\n",
       "10  Embarked_Q    0.000000\n",
       "11  Embarked_S    0.000000"
      ]
     },
     "execution_count": 109,
     "metadata": {},
     "output_type": "execute_result"
    }
   ],
   "source": [
    "importance = dec.feature_importances_\n",
    "feature_names = X.columns.values \n",
    "array = zip(feature_names,importance)\n",
    "df = pd.DataFrame(array)\n",
    "df.columns=['Feature','Importance']\n",
    "df.sort_values(['Importance'],ascending=False)"
   ]
  },
  {
   "cell_type": "code",
   "execution_count": 118,
   "metadata": {
    "collapsed": false
   },
   "outputs": [
    {
     "data": {
      "text/plain": [
       "<matplotlib.axes._subplots.AxesSubplot at 0xe95e630>"
      ]
     },
     "execution_count": 118,
     "metadata": {},
     "output_type": "execute_result"
    },
    {
     "data": {
      "image/png": "[encoded data removed]",
      "text/plain": [
       "<matplotlib.figure.Figure at 0xe813ac8>"
      ]
     },
     "metadata": {},
     "output_type": "display_data"
    }
   ],
   "source": [
    "importance = dec.feature_importances_\n",
    "feature_names = X.columns.values \n",
    "df1 = pd.DataFrame(importance,columns=['Importance'],index = feature_names)\n",
    "df1 = df1.sort_values(['Importance'],ascending=False)\n",
    "df1.plot(kind = 'bar')"
   ]
  },
  {
   "cell_type": "code",
   "execution_count": 41,
   "metadata": {
    "collapsed": false
   },
   "outputs": [
    {
     "data": {
      "text/plain": [
       "array([0, 1, 0, 0, 1, 0, 1, 0, 1, 0, 0, 0, 1, 0, 1, 1, 0, 0, 1, 1, 0, 0, 1,\n",
       "       1, 1, 0, 1, 0, 0, 0, 0, 0, 1, 1, 0, 0, 1, 1, 0, 0, 0, 0, 0, 1, 1, 0,\n",
       "       0, 0, 1, 1, 1, 0, 1, 1, 0, 0, 0, 0, 0, 1, 0, 0, 0, 1, 1, 1, 1, 0, 0,\n",
       "       1, 1, 0, 1, 0, 1, 0, 0, 1, 0, 1, 1, 0, 0, 0, 0, 0, 1, 1, 1, 1, 1, 0,\n",
       "       1, 0, 1, 0, 1, 0, 1, 0, 1, 0, 0, 0, 1, 0, 0, 0, 0, 0, 0, 1, 1, 1, 1,\n",
       "       0, 0, 1, 0, 1, 1, 0, 1, 0, 0, 1, 0, 1, 0, 0, 0, 0, 0, 0, 0, 0, 0, 0,\n",
       "       1, 0, 0, 1, 0, 0, 0, 0, 0, 0, 0, 0, 1, 0, 0, 1, 0, 0, 1, 1, 0, 1, 1,\n",
       "       1, 1, 0, 0, 1, 0, 0, 1, 1, 0, 0, 0, 0, 0, 1, 1, 0, 1, 1, 0, 0, 1, 0,\n",
       "       1, 0, 1, 0, 0, 0, 0, 0, 0, 0, 1, 0, 1, 1, 0, 1, 1, 1, 0, 1, 0, 0, 1,\n",
       "       0, 1, 0, 0, 0, 0, 1, 1, 0, 1, 0, 1, 0, 1, 0, 1, 0, 1, 1, 0, 1, 0, 0,\n",
       "       0, 1, 0, 0, 0, 0, 0, 0, 1, 1, 1, 1, 0, 0, 0, 0, 1, 0, 1, 1, 1, 0, 0,\n",
       "       0, 0, 0, 0, 0, 1, 0, 0, 0, 1, 1, 0, 0, 0, 0, 1, 0, 0, 0, 1, 1, 0, 1,\n",
       "       0, 0, 0, 0, 1, 1, 1, 1, 1, 0, 0, 1, 0, 0, 0, 1, 0, 0, 0, 0, 1, 0, 0,\n",
       "       0, 0, 0, 0, 0, 1, 1, 0, 1, 0, 1, 0, 0, 0, 1, 1, 1, 0, 0, 0, 0, 0, 0,\n",
       "       0, 0, 1, 0, 1, 0, 0, 0, 1, 0, 0, 1, 0, 0, 0, 0, 0, 0, 0, 0, 0, 1, 1,\n",
       "       1, 0, 1, 0, 1, 1, 0, 0, 0, 1, 0, 1, 0, 0, 1, 0, 1, 1, 0, 1, 0, 0, 0,\n",
       "       1, 0, 0, 1, 0, 0, 1, 1, 1, 0, 0, 1, 0, 0, 1, 1, 0, 1, 0, 0, 0, 1, 1,\n",
       "       1, 0, 0, 0, 1, 0, 1, 0, 0, 1, 0, 1, 1, 0, 0, 0, 0, 1, 1, 1, 1, 1, 0,\n",
       "       1, 0, 0, 0], dtype=int64)"
      ]
     },
     "execution_count": 41,
     "metadata": {},
     "output_type": "execute_result"
    }
   ],
   "source": [
    "pred_dec = grid_search_dec.predict(x)\n",
    "pred_dec"
   ]
  },
  {
   "cell_type": "code",
   "execution_count": 42,
   "metadata": {
    "collapsed": false
   },
   "outputs": [
    {
     "name": "stdout",
     "output_type": "stream",
     "text": [
      "DONE\n"
     ]
    }
   ],
   "source": [
    "final = pd.DataFrame()\n",
    "final['PassengerId'] = test['PassengerId']\n",
    "final['Survived'] = pred_dec\n",
    "final.to_csv('decision_tree.csv', index=False)\n",
    "print ('DONE')"
   ]
  },
  {
   "cell_type": "markdown",
   "metadata": {},
   "source": [
    "#### Random Froest"
   ]
  },
  {
   "cell_type": "code",
   "execution_count": 45,
   "metadata": {
    "collapsed": true
   },
   "outputs": [],
   "source": [
    "from sklearn.ensemble import RandomForestClassifier\n"
   ]
  },
  {
   "cell_type": "code",
   "execution_count": 114,
   "metadata": {
    "collapsed": false
   },
   "outputs": [
    {
     "data": {
      "image/png": "[encoded data removed]",
      "text/plain": [
       "<matplotlib.figure.Figure at 0x1be7cc88>"
      ]
     },
     "metadata": {},
     "output_type": "display_data"
    }
   ],
   "source": [
    "Features = range(1,13)\n",
    "oob_score_RF = []\n",
    "for i in Features:\n",
    "        RFClass = RandomForestClassifier(n_estimators = 1000, #Number of trees - the more the better!\n",
    "                           max_features = i,     #How many features to randomly choose in each node \n",
    "                           min_samples_leaf = 5, #Minimum number of observations at each terminal node\n",
    "                           oob_score = True,\n",
    "                           random_state = 1,\n",
    "                           n_jobs = -1)\n",
    "        RFClass.fit(X,y)  \n",
    "        oob_score_RF.append(RFClass.oob_score_)\n",
    "\n",
    "plt.plot(Features, oob_score_RF)\n",
    "plt.xlabel(\"Number of Features\")\n",
    "plt.ylabel(\"Out of Bag Accuracy\")\n",
    "plt.show()             \n",
    "        \n"
   ]
  },
  {
   "cell_type": "code",
   "execution_count": 46,
   "metadata": {
    "collapsed": false
   },
   "outputs": [
    {
     "name": "stdout",
     "output_type": "stream",
     "text": [
      "Accuracy score: 0.84328358209\n",
      "Precision: 0.808988764045\n",
      "Recall: 0.742268041237\n"
     ]
    }
   ],
   "source": [
    "#train Random Forest Model\n",
    "from sklearn.ensemble import RandomForestClassifier\n",
    "from sklearn.grid_search import GridSearchCV\n",
    "\n",
    "rf = RandomForestClassifier()\n",
    "parameters = {\"n_estimators\"      : [250, 300],\n",
    "           \"criterion\"         : [\"gini\", \"entropy\"],\n",
    "           \"max_features\"      : [4,5,6,7,8],\n",
    "           \"max_depth\"         : [10, 20],\n",
    "           \"min_samples_split\" : [2, 4] ,\n",
    "           \"bootstrap\": [True, False]}\n",
    "grid_search_rf = GridSearchCV(rf, parameters,scoring = 'accuracy')\n",
    "grid_search_rf.fit(features_train, labels_train)\n",
    "\n",
    "print \"Accuracy score:\", grid_search_rf.score(features_test,labels_test)\n",
    "\n",
    "from sklearn.metrics import recall_score,precision_score\n",
    "pred = grid_search_rf.predict(features_test)\n",
    "recall = recall_score(labels_test,pred)\n",
    "precision = precision_score(labels_test,pred)\n",
    "\n",
    "print \"Precision:\", precision\n",
    "print \"Recall:\", recall"
   ]
  },
  {
   "cell_type": "code",
   "execution_count": 61,
   "metadata": {
    "collapsed": false
   },
   "outputs": [
    {
     "data": {
      "text/plain": [
       "RandomForestClassifier(bootstrap=True, class_weight=None, criterion='gini',\n",
       "            max_depth=10, max_features=4, max_leaf_nodes=None,\n",
       "            min_impurity_decrease=0.0, min_impurity_split=None,\n",
       "            min_samples_leaf=1, min_samples_split=4,\n",
       "            min_weight_fraction_leaf=0.0, n_estimators=250, n_jobs=1,\n",
       "            oob_score=False, random_state=None, verbose=0,\n",
       "            warm_start=False)"
      ]
     },
     "execution_count": 61,
     "metadata": {},
     "output_type": "execute_result"
    }
   ],
   "source": [
    "rf = RandomForestClassifier(**grid_search_rf.best_params_)\n",
    "rf.fit(X,y)"
   ]
  },
  {
   "cell_type": "code",
   "execution_count": 119,
   "metadata": {
    "collapsed": false
   },
   "outputs": [
    {
     "data": {
      "text/plain": [
       "<matplotlib.axes._subplots.AxesSubplot at 0x1211b0b8>"
      ]
     },
     "execution_count": 119,
     "metadata": {},
     "output_type": "execute_result"
    },
    {
     "data": {
      "image/png": "[encoded data removed]",
      "text/plain": [
       "<matplotlib.figure.Figure at 0x12a8f898>"
      ]
     },
     "metadata": {},
     "output_type": "display_data"
    }
   ],
   "source": [
    "importance = rf.feature_importances_\n",
    "feature_names = X.columns.values \n",
    "df1 = pd.DataFrame(importance,columns=['Importance'],index = feature_names)\n",
    "df1 = df1.sort_values(['Importance'],ascending=False)\n",
    "df1.plot(kind = 'bar')"
   ]
  },
  {
   "cell_type": "code",
   "execution_count": 118,
   "metadata": {
    "collapsed": false
   },
   "outputs": [
    {
     "name": "stdout",
     "output_type": "stream",
     "text": [
      "DONE\n"
     ]
    }
   ],
   "source": [
    "pred_ran = grid_search_rf.predict(x)\n",
    "pred_ran\n",
    "final = pd.DataFrame()\n",
    "final['PassengerId'] = test['PassengerId']\n",
    "final['Survived'] = pred_ran\n",
    "final.to_csv('random_forest.csv', index=False)\n",
    "print ('DONE')"
   ]
  },
  {
   "cell_type": "markdown",
   "metadata": {},
   "source": [
    "#### Logistic Regression"
   ]
  },
  {
   "cell_type": "markdown",
   "metadata": {},
   "source": [
    "L1 Penalty"
   ]
  },
  {
   "cell_type": "code",
   "execution_count": 47,
   "metadata": {
    "collapsed": true
   },
   "outputs": [],
   "source": [
    "from sklearn.linear_model import LogisticRegression"
   ]
  },
  {
   "cell_type": "code",
   "execution_count": 75,
   "metadata": {
    "collapsed": false
   },
   "outputs": [
    {
     "data": {
      "image/png": "[encoded data removed]",
      "text/plain": [
       "<matplotlib.figure.Figure at 0x1d028780>"
      ]
     },
     "metadata": {},
     "output_type": "display_data"
    },
    {
     "name": "stdout",
     "output_type": "stream",
     "text": [
      "Our optimal C is 10.000000\n",
      "Our accuracy at optimal C is 0.799144\n"
     ]
    }
   ],
   "source": [
    "c_list = np.logspace(-10,10,21) \n",
    "c_index = np.linspace(-10,10,21)\n",
    "#C is just the inverse of Lambda - the smaller the C - the stronger the\n",
    "#regulatization. The smaller C's choose less variables\n",
    "cv_scores = []\n",
    "for c_score in c_list:\n",
    "    lm = LogisticRegression(C = c_score,  solver = 'liblinear', max_iter  = 10000, penalty = 'l1')\n",
    "    cv_scores.append(cross_val_score(lm, X, y,cv = 5, scoring = 'accuracy').mean())\n",
    "\n",
    "plt.plot(c_index, cv_scores)\n",
    "plt.show()\n",
    "\n",
    "print(\"Our optimal C is %f\" %c_list[np.argmax(cv_scores)])   \n",
    "print(\"Our accuracy at optimal C is %f\" %np.max(cv_scores))"
   ]
  },
  {
   "cell_type": "code",
   "execution_count": 77,
   "metadata": {
    "collapsed": false
   },
   "outputs": [
    {
     "data": {
      "image/png": "[encoded data removed]",
      "text/plain": [
       "<matplotlib.figure.Figure at 0x19150da0>"
      ]
     },
     "metadata": {},
     "output_type": "display_data"
    },
    {
     "name": "stdout",
     "output_type": "stream",
     "text": [
      "Our optimal C is 2.033333\n",
      "Our accuracy at optimal C is 0.804777\n"
     ]
    }
   ],
   "source": [
    "\n",
    "### You can localize your search once you have an idea of where to search for the optimal solution\n",
    "\n",
    "c_list = np.linspace(0.1,3,100) \n",
    "cv_scores = []\n",
    "for c_score in c_list:\n",
    "    lm = LogisticRegression(C = c_score,  solver = 'liblinear', max_iter  = 10000, penalty = 'l1')\n",
    "    cv_scores.append(cross_val_score(lm, X, y,cv = 10, scoring = 'accuracy').mean())\n",
    "\n",
    "plt.plot(c_list, cv_scores)\n",
    "plt.show()\n",
    "\n",
    "print(\"Our optimal C is %f\" %c_list[np.argmax(cv_scores)])   \n",
    "print(\"Our accuracy at optimal C is %f\" %np.max(cv_scores))"
   ]
  },
  {
   "cell_type": "markdown",
   "metadata": {},
   "source": [
    "L2 Penalty"
   ]
  },
  {
   "cell_type": "code",
   "execution_count": 78,
   "metadata": {
    "collapsed": false
   },
   "outputs": [
    {
     "data": {
      "image/png": "[encoded data removed]",
      "text/plain": [
       "<matplotlib.figure.Figure at 0x19150080>"
      ]
     },
     "metadata": {},
     "output_type": "display_data"
    },
    {
     "name": "stdout",
     "output_type": "stream",
     "text": [
      "Our optimal C is 10.000000\n",
      "Our accuracy at optimal C is 0.801391\n"
     ]
    }
   ],
   "source": [
    "c_list = np.logspace(-10,10,21) \n",
    "c_index = np.linspace(-10,10,21)\n",
    "#C is just the inverse of Lambda - the smaller the C - the stronger the\n",
    "#regulatization. The smaller C's choose less variables\n",
    "cv_scores = []\n",
    "for c_score in c_list:\n",
    "    lm = LogisticRegression(C = c_score,  solver = 'newton-cg', max_iter  = 10000, penalty = 'l2')\n",
    "    cv_scores.append(cross_val_score(lm, X, y,cv = 5, scoring = 'accuracy').mean())\n",
    "\n",
    "plt.plot(c_index, cv_scores)\n",
    "plt.show()\n",
    "\n",
    "print(\"Our optimal C is %f\" %c_list[np.argmax(cv_scores)])   \n",
    "print(\"Our accuracy at optimal C is %f\" %np.max(cv_scores))"
   ]
  },
  {
   "cell_type": "code",
   "execution_count": 80,
   "metadata": {
    "collapsed": false
   },
   "outputs": [
    {
     "data": {
      "image/png": "[encoded data removed]",
      "text/plain": [
       "<matplotlib.figure.Figure at 0xbe43a58>"
      ]
     },
     "metadata": {},
     "output_type": "display_data"
    },
    {
     "name": "stdout",
     "output_type": "stream",
     "text": [
      "Our optimal C is 1.564646\n",
      "Our accuracy at optimal C is 0.803654\n"
     ]
    }
   ],
   "source": [
    "c_list = np.linspace(0.1,3,100)\n",
    "#C is just the inverse of Lambda - the smaller the C - the stronger the\n",
    "#regulatization. The smaller C's choose less variables\n",
    "cv_scores = []\n",
    "for c_score in c_list:\n",
    "    lm = LogisticRegression(C = c_score,  solver = 'newton-cg', max_iter  = 10000, penalty = 'l2')\n",
    "    cv_scores.append(cross_val_score(lm, X, y,cv = 10, scoring = 'accuracy').mean())\n",
    "\n",
    "plt.plot(c_list, cv_scores)\n",
    "plt.show()\n",
    "\n",
    "print(\"Our optimal C is %f\" %c_list[np.argmax(cv_scores)])   \n",
    "print(\"Our accuracy at optimal C is %f\" %np.max(cv_scores))"
   ]
  },
  {
   "cell_type": "code",
   "execution_count": 35,
   "metadata": {
    "collapsed": true
   },
   "outputs": [],
   "source": [
    "lm1 = LogisticRegression(C = 2.033333,  solver = 'liblinear', max_iter  = 10000, penalty = 'l1')\n",
    "lm2 = LogisticRegression(C = 1.564646,  solver = 'newton-cg', max_iter  = 10000, penalty = 'l2')"
   ]
  },
  {
   "cell_type": "code",
   "execution_count": 36,
   "metadata": {
    "collapsed": false
   },
   "outputs": [
    {
     "data": {
      "text/plain": [
       "0.80471380471380471"
      ]
     },
     "execution_count": 36,
     "metadata": {},
     "output_type": "execute_result"
    }
   ],
   "source": [
    "lm1.fit(X,y)\n",
    "pred_lm1 = lm1.predict(x)\n",
    "lm1.score(X,y)"
   ]
  },
  {
   "cell_type": "code",
   "execution_count": 93,
   "metadata": {
    "collapsed": true
   },
   "outputs": [],
   "source": [
    "\n",
    "from sklearn.metrics import confusion_matrix\n",
    "from sklearn.metrics import roc_curve, auc,roc_auc_score"
   ]
  },
  {
   "cell_type": "code",
   "execution_count": 95,
   "metadata": {
    "collapsed": false
   },
   "outputs": [
    {
     "name": "stdout",
     "output_type": "stream",
     "text": [
      "False Positive Rate = 0.289474\n",
      "False Negative Rate = 0.138434\n",
      "True Positive Rate = 0.861566\n",
      "True Negative Rate = 0.710526\n",
      "Misclassification Error = 0.196409\n",
      "Accuracy = 0.803591\n"
     ]
    }
   ],
   "source": [
    "y_hat = lm1.predict(X)\n",
    "confmat = confusion_matrix(y, y_hat)\n",
    "TP = confmat[0,0] #True Positive\n",
    "FP = confmat[1,0] #False Positive\n",
    "FN = confmat[0,1] #False Negative\n",
    "TN = confmat[1,1] #True Negative\n",
    "Err = float(FP + FN)/(FP + FN + TP + TN) #Prediction Error\n",
    "Acc = float(TP + TN)/(FP + FN + TP + TN) #Prediction Accuracy\n",
    "FPR = float(FP)/(FP + TN)  #False Positive Rate\n",
    "TNR = float(TN)/(FP + TN)  #True Negative Rate\n",
    "TPR = float(TP)/(FN + TP)  #True Positive Rate\n",
    "FNR = float(FN)/(FN + TP)  #False Negative Rate\n",
    "print(\"False Positive Rate = %f\" %FPR)\n",
    "print(\"False Negative Rate = %f\" %FNR)\n",
    "print(\"True Positive Rate = %f\" %TPR)\n",
    "print(\"True Negative Rate = %f\" %TNR)\n",
    "print(\"Misclassification Error = %f\" %Err)\n",
    "print(\"Accuracy = %f\" %Acc)"
   ]
  },
  {
   "cell_type": "code",
   "execution_count": 96,
   "metadata": {
    "collapsed": false
   },
   "outputs": [
    {
     "name": "stdout",
     "output_type": "stream",
     "text": [
      "[ 0.08783833  0.91844282  0.60078651  0.8920368   0.07414691  0.10136006\n",
      "  0.28989375  0.09498658  0.55881138  0.90208143  0.70349449  0.8235837\n",
      "  0.12261601  0.03555202  0.70143227  0.64054828  0.09812006  0.23924188\n",
      "  0.48277288  0.76771526  0.21862842  0.22376459  0.75882622  0.51499391\n",
      "  0.53058339  0.3398496   0.11695248  0.37555359  0.72114122  0.09684331\n",
      "  0.50524968  0.92877364  0.70482107  0.08068598  0.54965213  0.32122579\n",
      "  0.14972515  0.11867835  0.52893302  0.72493706  0.39944151  0.78953597\n",
      "  0.11906793  0.92401914  0.73060537  0.08624388  0.07367679  0.70482107\n",
      "  0.0971513   0.60192551  0.06139321  0.11866366  0.88248016  0.77742137\n",
      "  0.27762637  0.41431155  0.86255673  0.13318839  0.88136766  0.03776742\n",
      "  0.16358588  0.93842906  0.30115177  0.08369567  0.52078705  0.13289471\n",
      "  0.82342698  0.12667228  0.35772373  0.05809932  0.23666916  0.30491732\n",
      "  0.32578028  0.11165493  0.08423905  0.1039855   0.09684331  0.08624388\n",
      "  0.46487432  0.56533052  0.11490485  0.09102854  0.7123463   0.51662135\n",
      "  0.87923061  0.32303222  0.09046249  0.08624388  0.87462365  0.10751668\n",
      "  0.09096117  0.12260418  0.29080762  0.06796383  0.03180024  0.08624388\n",
      "  0.24493992  0.6464549   0.78459119  0.17736484  0.58285136  0.09684331\n",
      "  0.56825978  0.07943194  0.03937453  0.09406998  0.64432415  0.0891499\n",
      "  0.06685031  0.62934307  0.34615307  0.72158356  0.11485058  0.5829213\n",
      "  0.76083834  0.118671    0.02893334  0.20562209  0.66146432  0.49615989\n",
      "  0.2103489   0.08624388  0.2562523   0.80395978  0.27885237  0.17420836\n",
      "  0.07186295  0.10746773  0.67749907  0.05232895  0.11509559  0.12255559\n",
      "  0.33966206  0.77742137  0.28704214  0.39565397  0.94538117  0.36310032\n",
      "  0.13958308  0.65561567  0.69260202  0.63578583  0.5472801   0.16765331\n",
      "  0.3428081   0.26114443  0.09727635  0.57982151  0.18748392  0.17641747\n",
      "  0.13294747  0.93098011  0.03606852  0.05404981  0.08613979  0.39246987\n",
      "  0.75193707  0.08793817  0.1047408   0.01687609  0.05104001  0.75664708\n",
      "  0.1005839   0.1351481   0.07555132  0.15582038  0.93724539  0.29792246\n",
      "  0.30523694  0.09642251  0.23757046  0.09174377  0.7255624   0.118671\n",
      "  0.36095352  0.09448619  0.08207098  0.90463178  0.2506053   0.07133852\n",
      "  0.16362326  0.35499463  0.05342654  0.33886096  0.74954503  0.38079736\n",
      "  0.6260549   0.35984168  0.06047089  0.07163292  0.80686839  0.33468267\n",
      "  0.59164958  0.3888452   0.92215097  0.88277878  0.07186295  0.05453457\n",
      "  0.70482107  0.84899471  0.09414681  0.01687609  0.07667387  0.07557288\n",
      "  0.13082888  0.77425112  0.06258063  0.14507442  0.75193882  0.50571014\n",
      "  0.10746279  0.78966822  0.1148049   0.2506053   0.06511886  0.93730897\n",
      "  0.59185149  0.13815591  0.95000984  0.25034165  0.13950439  0.27209275\n",
      "  0.0423479   0.09684331  0.35931852  0.11492484  0.33437003  0.12058565\n",
      "  0.34299796  0.53492929  0.89366914  0.09094839  0.10233483  0.46837887\n",
      "  0.29440626  0.63370008  0.12948831  0.89943771  0.33437003  0.23020574\n",
      "  0.71110322  0.6260549   0.25737208  0.11479777  0.12689039  0.31655857\n",
      "  0.60963488  0.83068549  0.34733295  0.09307305  0.08613702  0.48313732\n",
      "  0.23022013  0.06708854  0.43088983  0.63996499  0.93658566  0.93174561\n",
      "  0.9559859   0.66827906  0.07186295  0.06587638  0.23643187  0.40002225\n",
      "  0.70482107  0.210901    0.04473787  0.07933767  0.82398277  0.9209864\n",
      "  0.34362568  0.10358578  0.73707646  0.5162252   0.70482107  0.74769537\n",
      "  0.42638649  0.21886733  0.08287708  0.42930429  0.0352553   0.09406799\n",
      "  0.1396022   0.12666555  0.27842297  0.11513946  0.08800352  0.11484178\n",
      "  0.17641747  0.70811933  0.94036331  0.95842332  0.28753852  0.61857407\n",
      "  0.10750837  0.52078705  0.15610967  0.96284699  0.36233772  0.90922048\n",
      "  0.70482107  0.07319192  0.12616615  0.83745531  0.08624388  0.66719489\n",
      "  0.95466076  0.96165377  0.27365579  0.95293453  0.96250937  0.94460414\n",
      "  0.78474144  0.09406998  0.12600256  0.60077697  0.80788032  0.12071541\n",
      "  0.92298653  0.91003858  0.1148049   0.09728128  0.86209599  0.80902299\n",
      "  0.01687609  0.94424962  0.02957598  0.78267337  0.46603711  0.96951952\n",
      "  0.58495742  0.35582869  0.42226759  0.08246522  0.90474816  0.09684331\n",
      "  0.43600294  0.93359538  0.05235891  0.36100064  0.39770177  0.87049641\n",
      "  0.2648036   0.28704214  0.21113481  0.84899471  0.75636252  0.52330676\n",
      "  0.1546287   0.05818651  0.11119593  0.3284395   0.1495361   0.07974999\n",
      "  0.11695248  0.09414681  0.943987    0.7697813   0.72114122  0.72114122\n",
      "  0.03657852  0.28151803  0.51235062  0.07410836  0.07367679  0.08790214\n",
      "  0.83299347  0.77678536  0.70482107  0.96222744  0.57336808  0.10044696\n",
      "  0.12666555  0.67912533  0.5764165   0.92449118  0.63572079  0.61531092\n",
      "  0.17373917  0.12664846  0.93452771  0.83407859  0.08215798  0.89197728\n",
      "  0.09684331  0.350697    0.0538284   0.78267337  0.13929255  0.91658348\n",
      "  0.34879939  0.11866341  0.05414634  0.95265285  0.58681704  0.11483607\n",
      "  0.55554732  0.15683312  0.30217536  0.82893055  0.06457268  0.10059787\n",
      "  0.57387004  0.07187752  0.65291327  0.1769554   0.04234106  0.38787779\n",
      "  0.11866219  0.53492929  0.09684331  0.14802664  0.92661582  0.21886733\n",
      "  0.05422794  0.60497848  0.73110112  0.85964718  0.2506053   0.70571628\n",
      "  0.11906793  0.1576211   0.09095304  0.49296402  0.09508183  0.08613702\n",
      "  0.7837781   0.87209763  0.07186295  0.08216327  0.51373804  0.52330676\n",
      "  0.6831226   0.13504718  0.26059029  0.94222579  0.46919326  0.71684116\n",
      "  0.15181952  0.24344031  0.64299798  0.12270367  0.07933767  0.82895843\n",
      "  0.11001844  0.69842223  0.88796799  0.45816156  0.71937573  0.30287108\n",
      "  0.14872382  0.07781792  0.59681281  0.35977706  0.08624388  0.13110293\n",
      "  0.21108051  0.87681331  0.68140765  0.07186295  0.33461007  0.0767357\n",
      "  0.34443867  0.14634971  0.08624388  0.06682067  0.21886733  0.27202818\n",
      "  0.13929226  0.75009546  0.08613702  0.06687718  0.72434607  0.89799121\n",
      "  0.63605733  0.36266471  0.1769554   0.06912139  0.11482037  0.77443026\n",
      "  0.04055982  0.21886733  0.04387906  0.27613532  0.57825779  0.53492929\n",
      "  0.89401694  0.34388592  0.08793817  0.12769872  0.07781792  0.11863135\n",
      "  0.27988762  0.246486    0.11867835  0.16320103  0.86192836  0.09871918\n",
      "  0.91691269  0.10750298  0.1351481   0.71573157  0.73589351  0.50034297\n",
      "  0.95825281  0.64232439  0.77952241  0.31324014  0.09477266  0.10308707\n",
      "  0.12206962  0.08624388  0.43976131  0.86066223  0.10748681  0.34387074\n",
      "  0.79480679  0.09717407  0.72926001  0.08215674  0.93199526  0.11484178\n",
      "  0.11695248  0.91836909  0.14972515  0.08318486  0.68140765  0.50858307\n",
      "  0.06457268  0.18236095  0.89883643  0.14972515  0.14033848  0.79458232\n",
      "  0.56480417  0.90274565  0.35984168  0.95416597  0.10738275  0.95944497\n",
      "  0.90424536  0.43163305  0.41352095  0.18845714  0.35349293  0.21727545\n",
      "  0.83505544  0.32110458  0.05680166  0.34711984  0.68661855  0.27354152\n",
      "  0.09098772  0.16358556  0.63578908  0.23022013  0.88415615  0.61069438\n",
      "  0.87097567  0.43662614  0.07186295  0.06236555  0.26485828  0.08624388\n",
      "  0.60497848  0.06280784  0.12665597  0.50764928  0.14972515  0.08215498\n",
      "  0.09240742  0.75858276  0.43977515  0.70482107  0.13950439  0.1270669\n",
      "  0.79503573  0.87705313  0.70658306  0.08215798  0.79131663  0.9119723\n",
      "  0.12143274  0.54399646  0.12656565  0.94874402  0.15119226  0.25754944\n",
      "  0.11485058  0.08624388  0.07411125  0.87052817  0.04877464  0.63871165\n",
      "  0.16169639  0.05122078  0.86052925  0.04526713  0.11695248  0.35562452\n",
      "  0.74470493  0.09684331  0.43272677  0.05423154  0.5513026   0.05440707\n",
      "  0.08793123  0.52355843  0.85729429  0.90722787  0.33155811  0.09427004\n",
      "  0.6260549   0.07186295  0.07414691  0.78936735  0.05466734  0.52886543\n",
      "  0.86052801  0.27922355  0.10802593  0.32129368  0.12796692  0.11866684\n",
      "  0.11915214  0.23745049  0.14569064  0.94993578  0.10059004  0.13929282\n",
      "  0.1331642   0.04232522  0.57920484  0.40923783  0.50516433  0.82895843\n",
      "  0.08215798  0.18371901  0.38392709  0.07392636  0.12260418  0.96222744\n",
      "  0.56966603  0.0913436   0.75009546  0.36675465  0.12665597  0.36157627\n",
      "  0.07243416  0.62712173  0.09684331  0.86835867  0.11870087  0.72180328\n",
      "  0.73772557  0.19244828  0.09684331  0.53821169  0.30247158  0.32384353\n",
      "  0.21467502  0.09112925  0.34280267  0.07161798  0.09400356  0.15044323\n",
      "  0.28704214  0.0891499   0.05616718  0.88582702  0.68592915  0.41584861\n",
      "  0.07033612  0.24369906  0.21886733  0.13081132  0.10574872  0.66968691\n",
      "  0.2871252   0.59222184  0.73608336  0.62973322  0.12268704  0.0339225\n",
      "  0.07171557  0.28541209  0.04801993  0.1267974   0.13081265  0.95977389\n",
      "  0.41653106  0.82788267  0.0913436   0.14891402  0.24363896  0.12878815\n",
      "  0.05423154  0.73543314  0.34691188  0.05815535  0.96272758  0.44892573\n",
      "  0.7410852   0.13889409  0.07667154  0.19432446  0.72061755  0.38583761\n",
      "  0.95013615  0.13289471  0.96182118  0.31324014  0.27470987  0.09102777\n",
      "  0.12875663  0.12664069  0.94304696  0.8339629   0.10607543  0.07939583\n",
      "  0.91194076  0.10388019  0.22376459  0.13731644  0.45245748  0.12265303\n",
      "  0.64914519  0.7354336   0.23143325  0.53696161  0.93825819  0.22846702\n",
      "  0.21886733  0.30247158  0.30247158  0.09288781  0.28979383  0.61746928\n",
      "  0.09684331  0.09684331  0.2941106   0.37511164  0.93848034  0.0824447\n",
      "  0.08500079  0.13642127  0.10166607  0.81817418  0.52652582  0.11433428\n",
      "  0.89172078  0.18030481  0.07946669  0.11112215  0.6059377   0.4080234\n",
      "  0.09406519  0.3428081   0.0767357   0.92431424  0.10738275  0.06020543\n",
      "  0.17399872  0.87815698  0.13948584  0.82226696  0.47245648  0.63893827\n",
      "  0.07559068  0.08217651  0.10759487  0.04709628  0.62255748  0.11695248\n",
      "  0.52882278  0.13080972  0.07186295  0.76688255  0.1392931   0.8940561\n",
      "  0.7861201   0.94169776  0.50494618  0.08849656  0.1039541   0.10396456\n",
      "  0.66939534  0.08009908  0.15571939  0.45690861  0.07186295  0.36160089\n",
      "  0.16362326  0.42975219  0.10399836  0.19318368  0.86698248  0.55566232\n",
      "  0.12689066  0.47579243  0.22376459  0.75176753  0.57533353  0.28934129\n",
      "  0.09723587  0.08499423  0.40896305  0.66943005  0.19318368  0.8989811\n",
      "  0.10058961  0.06512541  0.21714463  0.45913252  0.08646096  0.40923783\n",
      "  0.62717099  0.25454631  0.05611955  0.0681238   0.80765597  0.09731911\n",
      "  0.41796447  0.57581992  0.07299933  0.14346073  0.0913436   0.56666358\n",
      "  0.07186295  0.86213884  0.71783968  0.40716584  0.14972515  0.11111984\n",
      "  0.13084485  0.91071395  0.11871434  0.08624388  0.08423905  0.42434712\n",
      "  0.12260846  0.35959333  0.95227693  0.10946536  0.1351481   0.05815227\n",
      "  0.01687609  0.10774795  0.25379793  0.9288007   0.06362493  0.01847934\n",
      "  0.74807726  0.95428245  0.66683884  0.65428978  0.85002171  0.31029011\n",
      "  0.66697074  0.14972515  0.03424179  0.2573273   0.87120514  0.16362326\n",
      "  0.29469808  0.74242331  0.84927405  0.48926702  0.10077423  0.14949778\n",
      "  0.10059004  0.83166067  0.46437721  0.04882027  0.84520755  0.77337287\n",
      "  0.12272458  0.12665597  0.09684331  0.87964912  0.83594738  0.07940079\n",
      "  0.63614564  0.26453028  0.1039541   0.48114372  0.27209275  0.95213784\n",
      "  0.58276462  0.63226386  0.11062904]\n",
      "AUC is 0.859391 \n"
     ]
    }
   ],
   "source": [
    "y_hat_probability = lm1.predict_proba(X).T[1]  \n",
    "#T means Transpose\n",
    "#predict_proba(X).T[1] returns probability of belongingness to a class\n",
    "\n",
    "print(y_hat_probability)\n",
    "print(\"AUC is %f \" %roc_auc_score(y, y_hat_probability)) \n",
    "#This is excellent\n",
    "\n",
    "vals = roc_curve(y, y_hat_probability) \n",
    "#vals[0] is False Positive Rate\n",
    "#vals[1] is True Positive Rate"
   ]
  },
  {
   "cell_type": "code",
   "execution_count": 97,
   "metadata": {
    "collapsed": false,
    "scrolled": true
   },
   "outputs": [
    {
     "data": {
      "image/png": "[encoded data removed]",
      "text/plain": [
       "<matplotlib.figure.Figure at 0xb85e5f8>"
      ]
     },
     "metadata": {},
     "output_type": "display_data"
    }
   ],
   "source": [
    "\n",
    "plt.plot(vals[0], vals[1])\n",
    "plt.xlabel('False Positive Rate')\n",
    "plt.ylabel('True Positive Rate')\n",
    "plt.show()"
   ]
  },
  {
   "cell_type": "code",
   "execution_count": 88,
   "metadata": {
    "collapsed": false,
    "scrolled": true
   },
   "outputs": [
    {
     "name": "stdout",
     "output_type": "stream",
     "text": [
      "DONE\n"
     ]
    }
   ],
   "source": [
    "final = pd.DataFrame()\n",
    "final['PassengerId'] = test['PassengerId']\n",
    "final['Survived'] = pred_lm1\n",
    "final.to_csv('log_1.csv', index=False)\n",
    "print ('DONE')"
   ]
  },
  {
   "cell_type": "code",
   "execution_count": 37,
   "metadata": {
    "collapsed": false
   },
   "outputs": [
    {
     "data": {
      "text/plain": [
       "0.80471380471380471"
      ]
     },
     "execution_count": 37,
     "metadata": {},
     "output_type": "execute_result"
    }
   ],
   "source": [
    "lm2.fit(X,y)\n",
    "pred_lm2 = lm2.predict(x)\n",
    "lm2.score(X,y)"
   ]
  },
  {
   "cell_type": "code",
   "execution_count": 122,
   "metadata": {
    "collapsed": false
   },
   "outputs": [
    {
     "data": {
      "text/plain": [
       "<matplotlib.axes._subplots.AxesSubplot at 0x12b491d0>"
      ]
     },
     "execution_count": 122,
     "metadata": {},
     "output_type": "execute_result"
    },
    {
     "data": {
      "image/png": "[encoded data removed]",
      "text/plain": [
       "<matplotlib.figure.Figure at 0x12a8f2e8>"
      ]
     },
     "metadata": {},
     "output_type": "display_data"
    }
   ],
   "source": [
    "importance = lm2.coef_.T\n",
    "feature_names = X.columns.values \n",
    "df1 = pd.DataFrame(importance,columns=['Importance'],index = feature_names)\n",
    "df1 = df1.sort_values(['Importance'],ascending=False)\n",
    "df1.plot(kind = 'bar')"
   ]
  },
  {
   "cell_type": "code",
   "execution_count": 90,
   "metadata": {
    "collapsed": false
   },
   "outputs": [
    {
     "name": "stdout",
     "output_type": "stream",
     "text": [
      "DONE\n"
     ]
    }
   ],
   "source": [
    "final = pd.DataFrame()\n",
    "final['PassengerId'] = test['PassengerId']\n",
    "final['Survived'] = pred_lm2\n",
    "final.to_csv('log_2.csv', index=False)\n",
    "print ('DONE')"
   ]
  },
  {
   "cell_type": "markdown",
   "metadata": {},
   "source": [
    "I submitted this test result of logistic regression and got accuracy of 0.75598 on Kaggle.com."
   ]
  },
  {
   "cell_type": "markdown",
   "metadata": {},
   "source": [
    "#### KNN"
   ]
  },
  {
   "cell_type": "markdown",
   "metadata": {},
   "source": [
    "How many neighbors is the optimal one?"
   ]
  },
  {
   "cell_type": "code",
   "execution_count": 48,
   "metadata": {
    "collapsed": false,
    "scrolled": true
   },
   "outputs": [
    {
     "data": {
      "image/png": "[encoded data removed]",
      "text/plain": [
       "<matplotlib.figure.Figure at 0xf78d0f0>"
      ]
     },
     "metadata": {},
     "output_type": "display_data"
    }
   ],
   "source": [
    "from sklearn import neighbors, metrics\n",
    "from sklearn.cross_validation import cross_val_score\n",
    "\n",
    "CV_Scores = []\n",
    "RangeOfK = range(1,100)\n",
    "\n",
    "for k in RangeOfK:\n",
    "    knn = neighbors.KNeighborsClassifier(n_neighbors = k, weights= 'distance')\n",
    "    CV_Scores.append(cross_val_score(knn, X, y, cv=5, scoring = 'accuracy').mean())    \n",
    "\n",
    "plt.plot(RangeOfK, CV_Scores)\n",
    "plt.xlabel(\"K\")\n",
    "plt.ylabel(\"Cross-Validation Score\")\n",
    "plt.show()"
   ]
  },
  {
   "cell_type": "code",
   "execution_count": 49,
   "metadata": {
    "collapsed": false
   },
   "outputs": [
    {
     "name": "stdout",
     "output_type": "stream",
     "text": [
      "Accuracy score: 0.794776119403\n",
      "Precision: 0.756097560976\n",
      "Recall:  0.639175257732\n"
     ]
    }
   ],
   "source": [
    "from sklearn.neighbors import KNeighborsClassifier\n",
    "from sklearn.grid_search import GridSearchCV\n",
    "from sklearn.model_selection import StratifiedShuffleSplit\n",
    "\n",
    "knn = KNeighborsClassifier()\n",
    "parameters = {\n",
    "               'n_neighbors': [3, 4, 5,6,7,8]\n",
    "              }\n",
    "\n",
    "grid_search_knn = GridSearchCV(knn, parameters,scoring = 'accuracy')\n",
    "\n",
    "\n",
    "grid_search_knn.fit(features_train, labels_train)\n",
    "\n",
    "print \"Accuracy score:\", grid_search_knn.score(features_test,labels_test)\n",
    "\n",
    "from sklearn.metrics import recall_score,precision_score\n",
    "pred = grid_search_knn.predict(features_test)\n",
    "recall = recall_score(labels_test,pred)\n",
    "precision = precision_score(labels_test,pred)\n",
    "\n",
    "print \"Precision:\", precision\n",
    "print \"Recall: \", recall\n",
    "\n"
   ]
  },
  {
   "cell_type": "code",
   "execution_count": 62,
   "metadata": {
    "collapsed": false
   },
   "outputs": [
    {
     "data": {
      "text/plain": [
       "KNeighborsClassifier(algorithm='auto', leaf_size=30, metric='minkowski',\n",
       "           metric_params=None, n_jobs=1, n_neighbors=8, p=2,\n",
       "           weights='uniform')"
      ]
     },
     "execution_count": 62,
     "metadata": {},
     "output_type": "execute_result"
    }
   ],
   "source": [
    "knn = KNeighborsClassifier(**grid_search_knn.best_params_)\n",
    "knn.fit(X,y)"
   ]
  },
  {
   "cell_type": "code",
   "execution_count": 124,
   "metadata": {
    "collapsed": false
   },
   "outputs": [
    {
     "ename": "AttributeError",
     "evalue": "'KNeighborsClassifier' object has no attribute 'coef_'",
     "output_type": "error",
     "traceback": [
      "\u001b[1;31m---------------------------------------------------------------------------\u001b[0m",
      "\u001b[1;31mAttributeError\u001b[0m                            Traceback (most recent call last)",
      "\u001b[1;32m<ipython-input-124-61e0d8868d4e>\u001b[0m in \u001b[0;36m<module>\u001b[1;34m()\u001b[0m\n\u001b[1;32m----> 1\u001b[1;33m \u001b[0mimportance\u001b[0m \u001b[1;33m=\u001b[0m \u001b[0mknn\u001b[0m\u001b[1;33m.\u001b[0m\u001b[0mcoef_\u001b[0m\u001b[1;33m.\u001b[0m\u001b[0mT\u001b[0m\u001b[1;33m\u001b[0m\u001b[0m\n\u001b[0m\u001b[0;32m      2\u001b[0m \u001b[0mfeature_names\u001b[0m \u001b[1;33m=\u001b[0m \u001b[0mX\u001b[0m\u001b[1;33m.\u001b[0m\u001b[0mcolumns\u001b[0m\u001b[1;33m.\u001b[0m\u001b[0mvalues\u001b[0m\u001b[1;33m\u001b[0m\u001b[0m\n\u001b[0;32m      3\u001b[0m \u001b[0mdf1\u001b[0m \u001b[1;33m=\u001b[0m \u001b[0mpd\u001b[0m\u001b[1;33m.\u001b[0m\u001b[0mDataFrame\u001b[0m\u001b[1;33m(\u001b[0m\u001b[0mimportance\u001b[0m\u001b[1;33m,\u001b[0m\u001b[0mcolumns\u001b[0m\u001b[1;33m=\u001b[0m\u001b[1;33m[\u001b[0m\u001b[1;34m'Importance'\u001b[0m\u001b[1;33m]\u001b[0m\u001b[1;33m,\u001b[0m\u001b[0mindex\u001b[0m \u001b[1;33m=\u001b[0m \u001b[0mfeature_names\u001b[0m\u001b[1;33m)\u001b[0m\u001b[1;33m\u001b[0m\u001b[0m\n\u001b[0;32m      4\u001b[0m \u001b[0mdf1\u001b[0m \u001b[1;33m=\u001b[0m \u001b[0mdf1\u001b[0m\u001b[1;33m.\u001b[0m\u001b[0msort_values\u001b[0m\u001b[1;33m(\u001b[0m\u001b[1;33m[\u001b[0m\u001b[1;34m'Importance'\u001b[0m\u001b[1;33m]\u001b[0m\u001b[1;33m,\u001b[0m\u001b[0mascending\u001b[0m\u001b[1;33m=\u001b[0m\u001b[0mFalse\u001b[0m\u001b[1;33m)\u001b[0m\u001b[1;33m\u001b[0m\u001b[0m\n\u001b[0;32m      5\u001b[0m \u001b[0mdf1\u001b[0m\u001b[1;33m.\u001b[0m\u001b[0mplot\u001b[0m\u001b[1;33m(\u001b[0m\u001b[0mkind\u001b[0m \u001b[1;33m=\u001b[0m \u001b[1;34m'bar'\u001b[0m\u001b[1;33m)\u001b[0m\u001b[1;33m\u001b[0m\u001b[0m\n",
      "\u001b[1;31mAttributeError\u001b[0m: 'KNeighborsClassifier' object has no attribute 'coef_'"
     ]
    }
   ],
   "source": [
    "importance = knn.coef_.T\n",
    "feature_names = X.columns.values \n",
    "df1 = pd.DataFrame(importance,columns=['Importance'],index = feature_names)\n",
    "df1 = df1.sort_values(['Importance'],ascending=False)\n",
    "df1.plot(kind = 'bar')"
   ]
  },
  {
   "cell_type": "code",
   "execution_count": 71,
   "metadata": {
    "collapsed": false
   },
   "outputs": [
    {
     "data": {
      "text/plain": [
       "array([0, 0, 0, 0, 0, 0, 1, 0, 0, 0, 0, 0, 1, 0, 1, 1, 0, 0, 0, 0, 0, 0, 1,\n",
       "       1, 1, 0, 1, 0, 0, 0, 0, 0, 0, 0, 0, 0, 0, 0, 0, 0, 0, 0, 0, 1, 1, 0,\n",
       "       0, 0, 1, 1, 0, 0, 1, 1, 0, 0, 0, 0, 0, 1, 0, 0, 0, 1, 0, 1, 1, 0, 0,\n",
       "       1, 1, 0, 0, 0, 1, 0, 0, 1, 0, 1, 1, 0, 0, 0, 0, 0, 1, 1, 1, 0, 0, 0,\n",
       "       1, 0, 0, 0, 1, 0, 0, 0, 1, 0, 0, 0, 0, 0, 0, 0, 0, 0, 0, 1, 1, 1, 1,\n",
       "       0, 0, 1, 0, 1, 1, 0, 1, 0, 0, 1, 0, 1, 0, 0, 0, 0, 0, 0, 0, 0, 0, 0,\n",
       "       0, 0, 0, 1, 0, 0, 0, 0, 0, 0, 0, 0, 1, 0, 0, 1, 0, 0, 1, 0, 0, 1, 1,\n",
       "       1, 1, 0, 0, 0, 0, 0, 1, 0, 0, 0, 0, 0, 0, 1, 1, 0, 1, 1, 0, 0, 1, 0,\n",
       "       1, 0, 1, 0, 0, 0, 0, 0, 0, 0, 0, 0, 0, 1, 0, 0, 1, 1, 0, 1, 0, 0, 1,\n",
       "       0, 1, 0, 0, 0, 0, 1, 0, 0, 1, 0, 1, 0, 1, 0, 1, 0, 1, 0, 0, 1, 0, 0,\n",
       "       0, 1, 0, 0, 0, 0, 0, 0, 1, 1, 1, 1, 0, 0, 0, 0, 1, 0, 1, 0, 1, 0, 0,\n",
       "       0, 0, 0, 0, 0, 1, 0, 0, 0, 1, 1, 0, 0, 0, 0, 0, 0, 0, 0, 1, 1, 0, 1,\n",
       "       0, 0, 0, 0, 0, 0, 1, 0, 1, 0, 0, 0, 0, 0, 0, 1, 0, 0, 0, 0, 1, 0, 0,\n",
       "       0, 0, 0, 0, 0, 1, 1, 0, 0, 0, 0, 0, 0, 0, 1, 1, 1, 0, 0, 0, 0, 0, 0,\n",
       "       0, 0, 1, 0, 1, 0, 0, 0, 1, 0, 0, 0, 0, 0, 0, 0, 0, 0, 0, 0, 0, 1, 0,\n",
       "       1, 0, 0, 0, 1, 1, 0, 0, 0, 0, 0, 1, 0, 0, 0, 0, 1, 1, 0, 1, 0, 0, 0,\n",
       "       1, 0, 0, 1, 0, 0, 1, 1, 0, 0, 0, 0, 0, 0, 0, 0, 0, 1, 0, 0, 0, 0, 0,\n",
       "       1, 0, 0, 0, 1, 0, 1, 0, 0, 1, 0, 1, 0, 1, 0, 0, 0, 1, 1, 1, 1, 0, 0,\n",
       "       1, 0, 0, 0], dtype=int64)"
      ]
     },
     "execution_count": 71,
     "metadata": {},
     "output_type": "execute_result"
    }
   ],
   "source": [
    "pred_test = grid_search_knn.predict(x)\n",
    "pred_test"
   ]
  },
  {
   "cell_type": "code",
   "execution_count": 72,
   "metadata": {
    "collapsed": false
   },
   "outputs": [
    {
     "name": "stdout",
     "output_type": "stream",
     "text": [
      "DONE\n"
     ]
    }
   ],
   "source": [
    "pred_test = grid_search.predict(x)\n",
    "pred_test\n",
    "final = pd.DataFrame()\n",
    "final['PassengerId'] = test['PassengerId']\n",
    "final['Survived'] = pred_test\n",
    "final.to_csv('knn.csv', index=False)\n",
    "print ('DONE')"
   ]
  },
  {
   "cell_type": "markdown",
   "metadata": {},
   "source": [
    "On Kaggle, the score is 0.75598. "
   ]
  },
  {
   "cell_type": "markdown",
   "metadata": {},
   "source": [
    "#### SVM"
   ]
  },
  {
   "cell_type": "code",
   "execution_count": 50,
   "metadata": {
    "collapsed": false
   },
   "outputs": [
    {
     "name": "stdout",
     "output_type": "stream",
     "text": [
      "Accuracy score: 0.813432835821\n",
      "Precision: 0.805194805195\n",
      "Recall: 0.639175257732\n"
     ]
    }
   ],
   "source": [
    "#train Naive Bayes Model\n",
    "from sklearn.svm import LinearSVC\n",
    "from sklearn.grid_search import GridSearchCV\n",
    "\n",
    "svm = LinearSVC()\n",
    "parameters = {'C':[0.001, 0.01, 0.1, 1, 10]\n",
    "    }\n",
    "grid_search_svm = GridSearchCV(svm, parameters,scoring = 'accuracy')\n",
    "grid_search_svm.fit(features_train, labels_train)\n",
    "\n",
    "print \"Accuracy score:\", grid_search_svm.score(features_test,labels_test)\n",
    "\n",
    "from sklearn.metrics import recall_score,precision_score\n",
    "pred = grid_search_svm.predict(features_test)\n",
    "recall = recall_score(labels_test,pred)\n",
    "precision = precision_score(labels_test,pred)\n",
    "\n",
    "print \"Precision:\", precision\n",
    "print \"Recall:\", recall"
   ]
  },
  {
   "cell_type": "code",
   "execution_count": 63,
   "metadata": {
    "collapsed": false
   },
   "outputs": [
    {
     "data": {
      "text/plain": [
       "LinearSVC(C=0.01, class_weight=None, dual=True, fit_intercept=True,\n",
       "     intercept_scaling=1, loss='squared_hinge', max_iter=1000,\n",
       "     multi_class='ovr', penalty='l2', random_state=None, tol=0.0001,\n",
       "     verbose=0)"
      ]
     },
     "execution_count": 63,
     "metadata": {},
     "output_type": "execute_result"
    }
   ],
   "source": [
    "svm = LinearSVC(**grid_search_svm.best_params_)\n",
    "svm.fit(X,y)"
   ]
  },
  {
   "cell_type": "code",
   "execution_count": 126,
   "metadata": {
    "collapsed": false
   },
   "outputs": [
    {
     "data": {
      "text/plain": [
       "<matplotlib.axes._subplots.AxesSubplot at 0xff8c898>"
      ]
     },
     "execution_count": 126,
     "metadata": {},
     "output_type": "execute_result"
    },
    {
     "data": {
      "image/png": "[encoded data removed]",
      "text/plain": [
       "<matplotlib.figure.Figure at 0xff95a90>"
      ]
     },
     "metadata": {},
     "output_type": "display_data"
    }
   ],
   "source": [
    "importance = svm.coef_.T\n",
    "feature_names = X.columns.values \n",
    "df1 = pd.DataFrame(importance,columns=['Importance'],index = feature_names)\n",
    "df1 = df1.sort_values(['Importance'],ascending=False)\n",
    "df1.plot(kind = 'bar')"
   ]
  },
  {
   "cell_type": "code",
   "execution_count": 127,
   "metadata": {
    "collapsed": false
   },
   "outputs": [
    {
     "name": "stdout",
     "output_type": "stream",
     "text": [
      "DONE\n"
     ]
    }
   ],
   "source": [
    "pred_svm = grid_search_svm.predict(x)\n",
    "pred_svm\n",
    "final = pd.DataFrame()\n",
    "final['PassengerId'] = test['PassengerId']\n",
    "final['Survived'] = pred_svm\n",
    "final.to_csv('svm.csv', index=False)\n",
    "print ('DONE')"
   ]
  },
  {
   "cell_type": "markdown",
   "metadata": {},
   "source": [
    "#### Naive Bayes"
   ]
  },
  {
   "cell_type": "code",
   "execution_count": 51,
   "metadata": {
    "collapsed": false
   },
   "outputs": [
    {
     "name": "stdout",
     "output_type": "stream",
     "text": [
      "Accuracy score: 0.776119402985\n",
      "Precision: 0.698924731183\n",
      "Recall: 0.670103092784\n"
     ]
    }
   ],
   "source": [
    "#train Naive Bayes Model\n",
    "from sklearn.naive_bayes import GaussianNB\n",
    "from sklearn.grid_search import GridSearchCV\n",
    "\n",
    "nb = GaussianNB()\n",
    "parameters = {}\n",
    "grid_search_nb = GridSearchCV(nb, parameters,scoring = 'accuracy')\n",
    "grid_search_nb.fit(features_train, labels_train)\n",
    "\n",
    "print \"Accuracy score:\", grid_search_nb.score(features_test,labels_test)\n",
    "\n",
    "from sklearn.metrics import recall_score,precision_score\n",
    "pred = grid_search_nb.predict(features_test)\n",
    "recall = recall_score(labels_test,pred)\n",
    "precision = precision_score(labels_test,pred)\n",
    "\n",
    "print \"Precision:\", precision\n",
    "print \"Recall:\", recall"
   ]
  },
  {
   "cell_type": "code",
   "execution_count": 64,
   "metadata": {
    "collapsed": false
   },
   "outputs": [
    {
     "data": {
      "text/plain": [
       "LinearSVC(C=1.0, class_weight=None, dual=True, fit_intercept=True,\n",
       "     intercept_scaling=1, loss='squared_hinge', max_iter=1000,\n",
       "     multi_class='ovr', penalty='l2', random_state=None, tol=0.0001,\n",
       "     verbose=0)"
      ]
     },
     "execution_count": 64,
     "metadata": {},
     "output_type": "execute_result"
    }
   ],
   "source": [
    "nb = GaussianNB(**grid_search_nb.best_params_)\n",
    "nb.fit(X,y)"
   ]
  },
  {
   "cell_type": "code",
   "execution_count": 127,
   "metadata": {
    "collapsed": false
   },
   "outputs": [
    {
     "data": {
      "text/plain": [
       "<matplotlib.axes._subplots.AxesSubplot at 0x109d0358>"
      ]
     },
     "execution_count": 127,
     "metadata": {},
     "output_type": "execute_result"
    },
    {
     "data": {
      "image/png": "[encoded data removed]",
      "text/plain": [
       "<matplotlib.figure.Figure at 0x12c85128>"
      ]
     },
     "metadata": {},
     "output_type": "display_data"
    }
   ],
   "source": [
    "importance = nb.coef_.T\n",
    "feature_names = X.columns.values \n",
    "df1 = pd.DataFrame(importance,columns=['Importance'],index = feature_names)\n",
    "df1 = df1.sort_values(['Importance'],ascending=False)\n",
    "df1.plot(kind = 'bar')"
   ]
  },
  {
   "cell_type": "code",
   "execution_count": 120,
   "metadata": {
    "collapsed": false
   },
   "outputs": [
    {
     "name": "stdout",
     "output_type": "stream",
     "text": [
      "DONE\n"
     ]
    }
   ],
   "source": [
    "pred_nb = grid_search_nb.predict(x)\n",
    "pred_nb\n",
    "final = pd.DataFrame()\n",
    "final['PassengerId'] = test['PassengerId']\n",
    "final['Survived'] = pred_nb\n",
    "final.to_csv('naive_bayes.csv', index=False)\n",
    "print ('DONE')"
   ]
  },
  {
   "cell_type": "markdown",
   "metadata": {},
   "source": [
    "#### Gradient Boosting"
   ]
  },
  {
   "cell_type": "code",
   "execution_count": 52,
   "metadata": {
    "collapsed": false
   },
   "outputs": [
    {
     "name": "stdout",
     "output_type": "stream",
     "text": [
      "Accuracy score: 0.839552238806\n",
      "Precision: 0.806818181818\n",
      "Recall: 0.731958762887\n"
     ]
    }
   ],
   "source": [
    "\n",
    "from sklearn.ensemble import GradientBoostingClassifier\n",
    "from sklearn.grid_search import GridSearchCV\n",
    "\n",
    "gb = GradientBoostingClassifier()\n",
    "parameters = {'learning_rate': [0.1, 0.05, 0.02, 0.01],\n",
    "              'max_depth': [4, 6, 8],\n",
    "              'min_samples_leaf': [20, 50,100,150],\n",
    "              'max_features': [4,5,6,7,8] }\n",
    "grid_search_gb = GridSearchCV(gb, parameters,scoring = 'accuracy')\n",
    "grid_search_gb.fit(features_train, labels_train)\n",
    "\n",
    "print \"Accuracy score:\", grid_search_gb.score(features_test,labels_test)\n",
    "\n",
    "from sklearn.metrics import recall_score,precision_score\n",
    "pred = grid_search_gb.predict(features_test)\n",
    "recall = recall_score(labels_test,pred)\n",
    "precision = precision_score(labels_test,pred)\n",
    "\n",
    "print \"Precision:\", precision\n",
    "print \"Recall:\", recall"
   ]
  },
  {
   "cell_type": "code",
   "execution_count": 65,
   "metadata": {
    "collapsed": false
   },
   "outputs": [
    {
     "data": {
      "text/plain": [
       "GradientBoostingClassifier(criterion='friedman_mse', init=None,\n",
       "              learning_rate=0.05, loss='deviance', max_depth=8,\n",
       "              max_features=5, max_leaf_nodes=None,\n",
       "              min_impurity_decrease=0.0, min_impurity_split=None,\n",
       "              min_samples_leaf=20, min_samples_split=2,\n",
       "              min_weight_fraction_leaf=0.0, n_estimators=100,\n",
       "              presort='auto', random_state=None, subsample=1.0, verbose=0,\n",
       "              warm_start=False)"
      ]
     },
     "execution_count": 65,
     "metadata": {},
     "output_type": "execute_result"
    }
   ],
   "source": [
    "gb = GradientBoostingClassifier(**grid_search_gb.best_params_)\n",
    "gb.fit(X,y)"
   ]
  },
  {
   "cell_type": "code",
   "execution_count": 131,
   "metadata": {
    "collapsed": false
   },
   "outputs": [
    {
     "data": {
      "text/plain": [
       "<matplotlib.axes._subplots.AxesSubplot at 0xe34ebe0>"
      ]
     },
     "execution_count": 131,
     "metadata": {},
     "output_type": "execute_result"
    },
    {
     "data": {
      "image/png": "[encoded data removed]",
      "text/plain": [
       "<matplotlib.figure.Figure at 0xdc9f240>"
      ]
     },
     "metadata": {},
     "output_type": "display_data"
    }
   ],
   "source": [
    "importance = gb.feature_importances_\n",
    "feature_names = X.columns.values \n",
    "df1 = pd.DataFrame(importance,columns=['Importance'],index = feature_names)\n",
    "df1 = df1.sort_values(['Importance'],ascending=False)\n",
    "df1.plot(kind = 'bar')"
   ]
  },
  {
   "cell_type": "code",
   "execution_count": 124,
   "metadata": {
    "collapsed": false
   },
   "outputs": [
    {
     "name": "stdout",
     "output_type": "stream",
     "text": [
      "DONE\n"
     ]
    }
   ],
   "source": [
    "pred_gra = grid_search_gb.predict(x)\n",
    "pred_gra\n",
    "final = pd.DataFrame()\n",
    "final['PassengerId'] = test['PassengerId']\n",
    "final['Survived'] = pred_gra\n",
    "final.to_csv('adaboost.csv', index=False)\n",
    "print ('DONE')"
   ]
  },
  {
   "cell_type": "markdown",
   "metadata": {},
   "source": [
    "#### AdaBoost"
   ]
  },
  {
   "cell_type": "code",
   "execution_count": 53,
   "metadata": {
    "collapsed": false
   },
   "outputs": [
    {
     "name": "stdout",
     "output_type": "stream",
     "text": [
      "Accuracy score: 0.820895522388\n",
      "Precision: 0.757894736842\n",
      "Recall: 0.742268041237\n"
     ]
    }
   ],
   "source": [
    "#train AdaBoost Model\n",
    "from sklearn.ensemble import AdaBoostClassifier\n",
    "from sklearn.grid_search import GridSearchCV\n",
    "\n",
    "ada = AdaBoostClassifier()\n",
    "parameters = {'n_estimators': [10, 20, 30, 40, 50],\n",
    "               'algorithm': ['SAMME', 'SAMME.R'],\n",
    "               'learning_rate': [.5,.8, 1, 1.2, 1.5]}\n",
    "grid_search_ada = GridSearchCV(ada, parameters,scoring = 'accuracy')\n",
    "grid_search_ada.fit(features_train, labels_train)\n",
    "\n",
    "print \"Accuracy score:\", grid_search_ada.score(features_test,labels_test)\n",
    "\n",
    "from sklearn.metrics import recall_score,precision_score\n",
    "pred = grid_search_ada.predict(features_test)\n",
    "recall = recall_score(labels_test,pred)\n",
    "precision = precision_score(labels_test,pred)\n",
    "\n",
    "print \"Precision:\", precision\n",
    "print \"Recall:\", recall"
   ]
  },
  {
   "cell_type": "code",
   "execution_count": 66,
   "metadata": {
    "collapsed": false
   },
   "outputs": [
    {
     "data": {
      "text/plain": [
       "AdaBoostClassifier(algorithm='SAMME', base_estimator=None, learning_rate=0.8,\n",
       "          n_estimators=30, random_state=None)"
      ]
     },
     "execution_count": 66,
     "metadata": {},
     "output_type": "execute_result"
    }
   ],
   "source": [
    "ada = AdaBoostClassifier(**grid_search_ada.best_params_)\n",
    "ada.fit(X,y)"
   ]
  },
  {
   "cell_type": "code",
   "execution_count": 132,
   "metadata": {
    "collapsed": false
   },
   "outputs": [
    {
     "data": {
      "text/plain": [
       "<matplotlib.axes._subplots.AxesSubplot at 0xf0d9c88>"
      ]
     },
     "execution_count": 132,
     "metadata": {},
     "output_type": "execute_result"
    },
    {
     "data": {
      "image/png": "[encoded data removed]",
      "text/plain": [
       "<matplotlib.figure.Figure at 0xbb8c080>"
      ]
     },
     "metadata": {},
     "output_type": "display_data"
    }
   ],
   "source": [
    "importance = ada.feature_importances_\n",
    "feature_names = X.columns.values \n",
    "df1 = pd.DataFrame(importance,columns=['Importance'],index = feature_names)\n",
    "df1 = df1.sort_values(['Importance'],ascending=False)\n",
    "df1.plot(kind = 'bar')"
   ]
  },
  {
   "cell_type": "code",
   "execution_count": 122,
   "metadata": {
    "collapsed": false
   },
   "outputs": [
    {
     "name": "stdout",
     "output_type": "stream",
     "text": [
      "DONE\n"
     ]
    }
   ],
   "source": [
    "pred_ada = grid_search_ada.predict(x)\n",
    "pred_ada\n",
    "final = pd.DataFrame()\n",
    "final['PassengerId'] = test['PassengerId']\n",
    "final['Survived'] = pred_ada\n",
    "final.to_csv('adaboost.csv', index=False)\n",
    "print ('DONE')"
   ]
  },
  {
   "cell_type": "markdown",
   "metadata": {},
   "source": [
    "#### XGBoost"
   ]
  },
  {
   "cell_type": "code",
   "execution_count": 1,
   "metadata": {
    "collapsed": false
   },
   "outputs": [],
   "source": [
    "import xgboost as xgb"
   ]
  },
  {
   "cell_type": "code",
   "execution_count": 33,
   "metadata": {
    "collapsed": false
   },
   "outputs": [
    {
     "name": "stdout",
     "output_type": "stream",
     "text": [
      "DONE\n"
     ]
    }
   ],
   "source": [
    "xgb = xgb.XGBClassifier(max_depth=3, n_estimators=300, learning_rate=0.05).fit(X, y)\n",
    "pred_xgb = xgb.predict(x)\n",
    "pred_xgb\n",
    "final = pd.DataFrame()\n",
    "final['PassengerId'] = test['PassengerId']\n",
    "final['Survived'] = pred_xgb\n",
    "final.to_csv('xgb.csv', index=False)\n",
    "print ('DONE')"
   ]
  },
  {
   "cell_type": "code",
   "execution_count": null,
   "metadata": {
    "collapsed": true
   },
   "outputs": [],
   "source": []
  },
  {
   "cell_type": "code",
   "execution_count": null,
   "metadata": {
    "collapsed": true
   },
   "outputs": [],
   "source": []
  },
  {
   "cell_type": "markdown",
   "metadata": {},
   "source": [
    "#### Maximum Voting ensemble and Submission"
   ]
  },
  {
   "cell_type": "markdown",
   "metadata": {},
   "source": [
    "Combine all the models above and use maximum voting to predit."
   ]
  },
  {
   "cell_type": "code",
   "execution_count": 160,
   "metadata": {
    "collapsed": false
   },
   "outputs": [
    {
     "name": "stdout",
     "output_type": "stream",
     "text": [
      "0.818163286801\n"
     ]
    }
   ],
   "source": [
    "from sklearn.ensemble import VotingClassifier\n",
    "from sklearn import cross_validation\n",
    "vote = VotingClassifier(estimators=[\n",
    "        ('log', lm2), ('dec', grid_search_dec),('rf',grid_search_rf),('svm', grid_search_svm),\n",
    "    ('nb', grid_search_nb),('knn', grid_search_knn),('gb', grid_search_gb),('ada', grid_search_ada)], \n",
    "                        voting='hard')\n",
    "\n",
    "vote.fit(X, y)\n",
    "\n",
    "scores = cross_validation.cross_val_score(clf, X, y, cv=5, \n",
    "                                              scoring = 'accuracy',\n",
    "                                              n_jobs = -1)\n",
    "print(scores.mean())"
   ]
  },
  {
   "cell_type": "code",
   "execution_count": 161,
   "metadata": {
    "collapsed": false
   },
   "outputs": [
    {
     "name": "stdout",
     "output_type": "stream",
     "text": [
      "DONE\n"
     ]
    }
   ],
   "source": [
    "pred_vote = vote.predict(x)\n",
    "pred_vote\n",
    "final = pd.DataFrame()\n",
    "final['PassengerId'] = test['PassengerId']\n",
    "final['Survived'] = pred_vote\n",
    "final.to_csv('vote.csv', index=False)\n",
    "print ('DONE')"
   ]
  },
  {
   "cell_type": "markdown",
   "metadata": {
    "collapsed": true
   },
   "source": [
    "#### Stacking"
   ]
  },
  {
   "cell_type": "code",
   "execution_count": 43,
   "metadata": {
    "collapsed": true
   },
   "outputs": [],
   "source": [
    "from mlxtend.classifier import StackingClassifier\n",
    "from sklearn import model_selection\n",
    "lr = LogisticRegression()"
   ]
  },
  {
   "cell_type": "code",
   "execution_count": 68,
   "metadata": {
    "collapsed": false
   },
   "outputs": [
    {
     "name": "stdout",
     "output_type": "stream",
     "text": [
      "5-fold cross validation:\n",
      "\n",
      "Accuracy: 0.81373 (+/- 0.01609) [Decision Tree]\n",
      "Accuracy: 0.79689 (+/- 0.02201) [Logistic Regression 2]\n",
      "Accuracy: 0.83621 (+/- 0.02344) [Random Forest]\n",
      "Accuracy: 0.78903 (+/- 0.02349) [SVM]\n",
      "Accuracy: 0.79351 (+/- 0.02238) [Naive Bayes]\n",
      "Accuracy: 0.80132 (+/- 0.01832) [KNN]\n",
      "Accuracy: 0.82947 (+/- 0.02122) [Gradient Boosting]\n",
      "Accuracy: 0.81030 (+/- 0.01120) [AdaBoost]\n",
      "Accuracy: 0.83059 (+/- 0.02126) [StackingClassifier]\n"
     ]
    }
   ],
   "source": [
    "sclf = StackingClassifier(classifiers=[dec, lm2, rf, svm, nb, \n",
    "                                       knn, gb, ada], \n",
    "                          meta_classifier=lr)\n",
    "\n",
    "print('5-fold cross validation:\\n')\n",
    "\n",
    "for clf, label in zip([dec, lm2, rf, svm, nb, \n",
    "                                       knn, gb, ada, sclf], \n",
    "                      ['Decision Tree', \n",
    "                       'Logistic Regression 2',\n",
    "                       'Random Forest',\n",
    "                       'SVM',\n",
    "                       'Naive Bayes',\n",
    "                       'KNN',\n",
    "                       'Gradient Boosting',\n",
    "                       'AdaBoost',\n",
    "                       'StackingClassifier'\n",
    "                                                        \n",
    "                                                                 \n",
    "                      ]):\n",
    "\n",
    "    scores = model_selection.cross_val_score(clf, X, y, \n",
    "                                              cv=5, scoring='accuracy')\n",
    "    print(\"Accuracy: %0.5f (+/- %0.5f) [%s]\" \n",
    "          % (scores.mean(), scores.std(), label))"
   ]
  },
  {
   "cell_type": "code",
   "execution_count": 71,
   "metadata": {
    "collapsed": false
   },
   "outputs": [
    {
     "name": "stdout",
     "output_type": "stream",
     "text": [
      "DONE\n"
     ]
    }
   ],
   "source": [
    "sclf.fit(X,y)\n",
    "pred_stack = sclf.predict(x)\n",
    "pred_stack\n",
    "final = pd.DataFrame()\n",
    "final['PassengerId'] = test['PassengerId']\n",
    "final['Survived'] = pred_stack\n",
    "final.to_csv('stack.csv', index=False)\n",
    "print ('DONE')"
   ]
  },
  {
   "cell_type": "markdown",
   "metadata": {},
   "source": [
    "### Summary and moving forward"
   ]
  },
  {
   "cell_type": "markdown",
   "metadata": {},
   "source": [
    "Based on all the findings above, my results have two part: descriptive analysis and preditive analysis.\n"
   ]
  },
  {
   "cell_type": "markdown",
   "metadata": {},
   "source": [
    "For descriptive analysis, I draw bunch of pictures to show the relationship between survive and different kinds of features. I found that majority of people did not have relatives abroad, the distribution is positively skewed. But the survival rate are almost the same no matter you have relatives abroad or not. Secondly, we can see in these four graphs that the female in high class has extremely high survival rate than low class. However, male in high class are much less likely to survive. Thirdly, even within one class, the fare is varying from one to one. Those are all the interesting findings and the fundation for me to do the feature engineering."
   ]
  },
  {
   "cell_type": "markdown",
   "metadata": {},
   "source": [
    "For preditive analysis, first, I cleaned the data. I combined \"SibSp\" and \"Parch\" to \"Relatives\". I change \"Sex\" to 0 ro 1. I fill in the missing values of ages by using the median ages based on gender and class. I change \"Embarked\" to 0,1 or 2. After the feature engineering, I have used random forest and logistic regression models to predict test file.I found out that gender is the most important factor (based on random forest and logistic regression models) made people on Titanic ship more likely to survive. "
   ]
  },
  {
   "cell_type": "markdown",
   "metadata": {},
   "source": [
    "The limitation of my analysis: First, I did some feature engineering like fill the missing value of age and combine relatives together. All these may lose some info or have bias on the real data. Secondly, I ignore some NAs in the dataset, which also lose a lot of information. Besides those, the dataset ifself has some limitations. First of all, we missed bunch of ticket number info. Second, we don't know how the original data collected. Also, we don't know how they divided the Pclass into 3 levels. All these things will result in a bias analysis and model. "
   ]
  },
  {
   "cell_type": "markdown",
   "metadata": {},
   "source": [
    "Moving forward, we still could do something to make the predicition more accurate. First, we could try different kind of classification models such as SVM. "
   ]
  },
  {
   "cell_type": "markdown",
   "metadata": {},
   "source": [
    "Second, when cleaning and filling the missing data, we could use other methods. For example, I could simply delete those missing ages instead of filling the missing data. Maybe in that case, I could get more accurate models. Also, for the fare, we could create groups to indicate the \"rich\" and \"not that rich\" person, this can be another meaningful feature."
   ]
  },
  {
   "cell_type": "markdown",
   "metadata": {},
   "source": [
    "Third, we could group people by fare and age and building new features. Finally, we could add feature selection process before creating the model to make it more accurate."
   ]
  },
  {
   "cell_type": "code",
   "execution_count": 72,
   "metadata": {
    "collapsed": false
   },
   "outputs": [
    {
     "data": {
      "text/plain": [
       "SelectKBest(k=5, score_func=<function f_classif at 0x000000000DD6CF28>)"
      ]
     },
     "execution_count": 72,
     "metadata": {},
     "output_type": "execute_result"
    }
   ],
   "source": [
    "#Let's try out the feature selection in Sklearn.\n",
    "import numpy as np\n",
    "from sklearn.feature_selection import SelectKBest, f_classif\n",
    "selector = SelectKBest(f_classif, k=5)\n",
    "selector.fit(train_data[0::,1::], train_data[0::,0])"
   ]
  },
  {
   "cell_type": "code",
   "execution_count": 74,
   "metadata": {
    "collapsed": false
   },
   "outputs": [
    {
     "name": "stdout",
     "output_type": "stream",
     "text": [
      "[ 24.10919258  68.17509274   0.23189845  13.9666612    1.26053655\n",
      "   2.930346  ]\n"
     ]
    }
   ],
   "source": [
    "scores = -np.log10(selector.pvalues_)\n",
    "print scores"
   ]
  },
  {
   "cell_type": "markdown",
   "metadata": {},
   "source": [
    "From the feature selection we could see that Pclass, Gender and Fare are more important than others, and relatives are very useless here. So next time, maybe we will find another way to use feature \"SibSp\" and \"Parch\". Also, \"Agefill\" and \"Embarked\" do not have high score, we may consider how to improve our feature engineering process for those features."
   ]
  }
 ],
 "metadata": {
  "anaconda-cloud": {},
  "kernelspec": {
   "display_name": "Python [conda root]",
   "language": "python",
   "name": "conda-root-py"
  },
  "language_info": {
   "codemirror_mode": {
    "name": "ipython",
    "version": 2
   },
   "file_extension": ".py",
   "mimetype": "text/x-python",
   "name": "python",
   "nbconvert_exporter": "python",
   "pygments_lexer": "ipython2",
   "version": "2.7.12"
  }
 },
 "nbformat": 4,
 "nbformat_minor": 2
}
